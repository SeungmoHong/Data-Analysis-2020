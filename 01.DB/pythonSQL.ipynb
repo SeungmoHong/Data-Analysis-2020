{
 "cells": [
  {
   "cell_type": "code",
   "execution_count": 18,
   "metadata": {},
   "outputs": [],
   "source": [
    "import json\n",
    "with open('mysql.json', 'r') as file:\n",
    "    config_str = file.read()\n",
    "config = json.loads(config_str)"
   ]
  },
  {
   "cell_type": "code",
   "execution_count": 19,
   "metadata": {},
   "outputs": [
    {
     "output_type": "execute_result",
     "data": {
      "text/plain": [
       "{'host': 'localhost',\n",
       " 'user': 'hsuser',\n",
       " 'password': 'hspass',\n",
       " 'database': 'pythonbbs',\n",
       " 'port': 3306}"
      ]
     },
     "metadata": {},
     "execution_count": 19
    }
   ],
   "source": [
    "config"
   ]
  },
  {
   "cell_type": "code",
   "execution_count": 20,
   "metadata": {},
   "outputs": [],
   "source": [
    "import pymysql\n",
    "conn = pymysql.connect(\n",
    "    host = config['host'],\n",
    "    user = config['user'],\n",
    "    password = config['password'],\n",
    "    database = config['database'],\n",
    "    port = config['port']\n",
    ")"
   ]
  },
  {
   "cell_type": "markdown",
   "metadata": {},
   "source": [
    "### 1번문제 "
   ]
  },
  {
   "cell_type": "code",
   "execution_count": 7,
   "metadata": {},
   "outputs": [
    {
     "name": "stdout",
     "output_type": "stream",
     "text": [
      "(54, '서균', '투수', 0, '7 1/3', 1)\n",
      "(5, '윤대경', '투수', 2, '51', 42)\n",
      "(62, '강재민', '투수', 3, '49', 57)\n",
      "(37, '김진영', '투수', 3, '54', 56)\n",
      "(48, '장웅정', '투수', 4, '7 2/3', 5)\n",
      "(67, '송윤준', '투수', 4, '23', 16)\n",
      "(53, '김민우', '투수', 4, '132 2/3', 124)\n"
     ]
    }
   ],
   "source": [
    "cur = conn.cursor()\n",
    "cur.execute(\"select l.back_no, l.name, l.position, r.ERA, r.IP, r.SO from Eagles AS l inner join Pitcher_stats AS r on l.back_no = r.back_no\")\n",
    "rows = cur.fetchall()\n",
    "for row in rows:\n",
    "    print(row)"
   ]
  },
  {
   "cell_type": "markdown",
   "metadata": {},
   "source": [
    "### 2번문제"
   ]
  },
  {
   "cell_type": "code",
   "execution_count": 15,
   "metadata": {},
   "outputs": [
    {
     "output_type": "stream",
     "name": "stdout",
     "text": [
      "('EXO', '7', '2012-04-08', '첫 눈', '2013-12-09')\n('EXO', '7', '2012-04-08', 'Love Shot', '2018-12-13')\n('BTS', '7', '2013-06-13', 'Dynamite', '2020-08-24')\n('BTS', '7', '2013-06-13', '작은 것들을 위한 시', '2019-04-12')\n('빅뱅', '4', '2006-08-19', '하루하루', '2008-08-08')\n('빅뱅', '4', '2006-08-19', '거짓말', '2007-08-16')\n('Highlight', '4', '2017-03-20', '얼굴 찌푸리지 말아요', '2017-03-20')\n('Highlight', '4', '2017-03-20', '사랑했나봐', '2018-11-20')\n('B1A4', '3', '2011-04-14', '잘자요 굿나잇', '2012-05-24')\n('B1A4', '3', '2011-04-14', '이게 무슨 일이야', '2013-05-06')\n"
     ]
    }
   ],
   "source": [
    "cur = conn.cursor()\n",
    "cur.execute(\"select l.group_name, l.구성원, DATE_FORMAT(l.데뷔일자, '%Y-%m-%d')as 데뷔일자, r.song_name,DATE_FORMAT(r.발표날짜, '%Y-%m-%d') as 발표날짜 from Boy_Group AS l inner join Song AS r on l.group_name = r.group_id\")\n",
    "songs = cur.fetchall()\n",
    "for song in songs:\n",
    "    print(song)"
   ]
  },
  {
   "cell_type": "markdown",
   "metadata": {},
   "source": [
    "### 3번문제"
   ]
  },
  {
   "cell_type": "code",
   "execution_count": 13,
   "metadata": {},
   "outputs": [
    {
     "name": "stdout",
     "output_type": "stream",
     "text": [
      "('admin', '1234')\n",
      "('user', '1234')\n",
      "사용자 이름을 입력하세요>admin\n",
      "사용자 비밀번호를 입력하세요>1234\n",
      "성공!\n"
     ]
    }
   ],
   "source": [
    "cur = conn.cursor()\n",
    "cur.execute(\"select * from users\")\n",
    "users = cur.fetchall()\n",
    "for user in users:\n",
    "    print(user)\n",
    "uname = input('사용자 이름을 입력하세요>')\n",
    "pwd = input('사용자 비밀번호를 입력하세요>')\n",
    "for i in users:\n",
    "    if uname in i :\n",
    "        if pwd == i[1]:\n",
    "            print('성공!')\n",
    "            break\n",
    "        else:\n",
    "            print('실패!')\n",
    "            break"
   ]
  },
  {
   "source": [
    "## 참고 "
   ],
   "cell_type": "markdown",
   "metadata": {}
  },
  {
   "cell_type": "code",
   "execution_count": 23,
   "metadata": {},
   "outputs": [],
   "source": [
    "uname = input('uname> ')\n",
    "pwd = input('pwd> ')\n"
   ]
  },
  {
   "cell_type": "code",
   "execution_count": 27,
   "metadata": {},
   "outputs": [],
   "source": [
    "sql = 'select * from users where 사용자 like %s ;'\n",
    "cur.execute(sql, (uname,))\n",
    "row = cur.fetchone()\n",
    "if (row):\n",
    "    db_pwd = row[1]\n",
    "else:\n",
    "    print(f'{uid} 는 등록되지 않은 uid 입니다.')"
   ]
  },
  {
   "cell_type": "code",
   "execution_count": 28,
   "metadata": {},
   "outputs": [
    {
     "output_type": "stream",
     "name": "stdout",
     "text": [
      "b'\\x03\\xacgB\\x16\\xf3\\xe1\\\\v\\x1e\\xe1\\xa5\\xe2U\\xf0g\\x956#\\xc8\\xb3\\x88\\xb4E\\x9e\\x13\\xf9x\\xd7\\xc8F\\xf4'\nb'A6xnQhbz4Vx2HuGl4lXwZ5U2I8iziLRFnhP5eNfIRvQ='\n<class 'bytes'>\nA6xnQhbz4Vx2HuGl4lXwZ5U2I8iziLRFnhP5eNfIRvQ=\n"
     ]
    }
   ],
   "source": [
    "import hashlib\n",
    "pwd_sha256 = hashlib.sha256(pwd.encode())\n",
    "print(pwd_sha256.digest())\n",
    "# Base64로 인코딩\n",
    "import base64\n",
    "print(base64.b64encode(pwd_sha256.digest()))\n",
    "print(type(base64.b64encode(pwd_sha256.digest())))\n",
    "# bytes 데이터를 문자열로 변환\n",
    "hashed_pwd = base64.b64encode(pwd_sha256.digest()).decode('utf-8')\n",
    "print(hashed_pwd)"
   ]
  },
  {
   "cell_type": "code",
   "execution_count": 29,
   "metadata": {},
   "outputs": [
    {
     "output_type": "stream",
     "name": "stdout",
     "text": [
      "패스워드가 틀립니다\n"
     ]
    }
   ],
   "source": [
    "if (db_pwd == hashed_pwd):\n",
    "    print('Login 성공')\n",
    "else:\n",
    "    print('패스워드가 틀립니다')"
   ]
  },
  {
   "cell_type": "code",
   "execution_count": null,
   "metadata": {},
   "outputs": [],
   "source": [
    "cur.close()\n",
    "conn.close()"
   ]
  }
 ],
 "metadata": {
  "kernelspec": {
   "display_name": "Python 3",
   "language": "python",
   "name": "python3"
  },
  "language_info": {
   "codemirror_mode": {
    "name": "ipython",
    "version": 3
   },
   "file_extension": ".py",
   "mimetype": "text/x-python",
   "name": "python",
   "nbconvert_exporter": "python",
   "pygments_lexer": "ipython3",
   "version": "3.8.3-final"
  }
 },
 "nbformat": 4,
 "nbformat_minor": 4
}