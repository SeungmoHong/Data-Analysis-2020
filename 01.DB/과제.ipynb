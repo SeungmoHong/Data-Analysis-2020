{
 "cells": [
  {
   "cell_type": "code",
   "execution_count": 1,
   "metadata": {},
   "outputs": [],
   "source": [
    "import sqlite3\n",
    "conn = sqlite3.connect('./test.db')\n"
   ]
  },
  {
   "cell_type": "markdown",
   "metadata": {},
   "source": [
    "### 1번"
   ]
  },
  {
   "cell_type": "markdown",
   "metadata": {},
   "source": [
    "### Eagles  테이블 만들기"
   ]
  },
  {
   "cell_type": "code",
   "execution_count": 2,
   "metadata": {},
   "outputs": [],
   "source": [
    "cur = conn.cursor()\n",
    "cur.execute('CREATE TABLE IF NOT EXISTS Eagles   (back_no INT NOT NULL, name varchar(10) , position TEXT, PRIMARY KEY(back_no));')\n",
    "conn.commit()"
   ]
  },
  {
   "cell_type": "markdown",
   "metadata": {},
   "source": [
    "### Pitcher_stats 테이블 만들기"
   ]
  },
  {
   "cell_type": "code",
   "execution_count": 3,
   "metadata": {},
   "outputs": [],
   "source": [
    "cur = conn.cursor()\n",
    "cur.execute('CREATE TABLE IF NOT EXISTS Pitcher_stats (back_no INT NOT NULL, ERA INT, IP varchar10, SO INT);')\n",
    "conn.commit()"
   ]
  },
  {
   "cell_type": "markdown",
   "metadata": {},
   "source": [
    "### 선수 추가하기 "
   ]
  },
  {
   "cell_type": "code",
   "execution_count": 4,
   "metadata": {},
   "outputs": [],
   "source": [
    "cur = conn.cursor()\n",
    "cur.execute(\"insert into Eagles(back_no, name, position) values(54,'서균', '투수'),(5,'윤대경','투수'),(62,'강재민','투수'),(37,'김진영','투수'),(48,'장웅정','투수'),(67,'송윤준','투수'),(53,'김민우', '투수')\")\n",
    "conn.commit()"
   ]
  },
  {
   "cell_type": "markdown",
   "metadata": {},
   "source": [
    "### 기록 추가하기"
   ]
  },
  {
   "cell_type": "code",
   "execution_count": 5,
   "metadata": {},
   "outputs": [],
   "source": [
    "cur = conn.cursor()\n",
    "cur.execute(\"insert into Pitcher_stats(back_no, ERA, IP, SO) values(54, 0.00, '7 1/3', 1),(5, 1.59, '51', 42), (62, 2.57, '49', 57),(37, 2.57, '54', 56), (48, 3.52, '7 2/3', 5), (67, 4.30, '23', 16),(53, 4.34, '132 2/3', 124)\")\n",
    "conn.commit()"
   ]
  },
  {
   "cell_type": "markdown",
   "metadata": {},
   "source": [
    "### 테이블 합치기"
   ]
  },
  {
   "cell_type": "code",
   "execution_count": 6,
   "metadata": {},
   "outputs": [
    {
     "output_type": "stream",
     "name": "stdout",
     "text": [
      "(54, '서균', '투수', 0, '7 1/3', 1)\n(5, '윤대경', '투수', 1.59, '51', 42)\n(62, '강재민', '투수', 2.57, '49', 57)\n(37, '김진영', '투수', 2.57, '54', 56)\n(48, '장웅정', '투수', 3.52, '7 2/3', 5)\n(67, '송윤준', '투수', 4.3, '23', 16)\n(53, '김민우', '투수', 4.34, '132 2/3', 124)\n"
     ]
    }
   ],
   "source": [
    "cur = conn.cursor()\n",
    "cur.execute(\"select l.back_no, l.name, l.position, r.ERA, r.IP, r.SO from Eagles AS l inner join Pitcher_stats AS r on l.back_no = r.back_no\")\n",
    "rows = cur.fetchall()\n",
    "for row in rows:\n",
    "    print(row)"
   ]
  },
  {
   "cell_type": "markdown",
   "metadata": {},
   "source": [
    "### 2번"
   ]
  },
  {
   "cell_type": "markdown",
   "metadata": {},
   "source": [
    "### 보이그룹 테이블 만들기"
   ]
  },
  {
   "cell_type": "code",
   "execution_count": 7,
   "metadata": {},
   "outputs": [],
   "source": [
    "cur = conn.cursor()\n",
    "cur.execute(\"CREATE TABLE IF NOT EXISTS Boy_Group (id integer primary key autoincrement, group_name varchar(10) ,구성원 TEXT, 데뷔일자 DATETEXT,소속사 TEXT);\")\n",
    "conn.commit()"
   ]
  },
  {
   "cell_type": "code",
   "execution_count": 8,
   "metadata": {},
   "outputs": [],
   "source": [
    "cur = conn.cursor()\n",
    "cur.execute(\"insert into Boy_Group(group_name, 구성원, 데뷔일자, 소속사) values('EXO', '7', '2012-04-08','SM엔터테인먼트'),('BTS', '7', '2013-06-13', '빅히트 엔터테인먼트'),('빅뱅','4','2006-08-19','YG 엔터테인먼트'),('Highlight','4','2017-03-20','어라운드어스 엔터테인먼트'),('B1A4','3','2011-04-14','WM엔터테인먼트' )\")\n",
    "conn.commit()"
   ]
  },
  {
   "cell_type": "markdown",
   "metadata": {},
   "source": [
    "### 노래 테이블 만들기"
   ]
  },
  {
   "cell_type": "code",
   "execution_count": 9,
   "metadata": {},
   "outputs": [],
   "source": [
    "cur = conn.cursor()\n",
    "cur.execute(\"CREATE TABLE IF NOT EXISTS Song (song_id integer primary key autoincrement, song_name varchar(10) ,group_id TEXT, 발표날짜 DATETEXT,작곡가 TEXT, 도입부가사 TEXT);\")\n",
    "conn.commit()"
   ]
  },
  {
   "cell_type": "code",
   "execution_count": 10,
   "metadata": {},
   "outputs": [],
   "source": [
    "cur = conn.cursor()\n",
    "cur.execute(\"insert into Song(song_name, group_id, 발표날짜, 작곡가, 도입부가사) values('첫 눈', 'EXO', '2013-12-09', 'KENZIE, 김정배', '첫눈 오는 이런 오후에 너에게 전화를 걸 수만 있다면'),('Love Shot','EXO', '2018-12-13', 'Mike Woods, Kevin White', '차갑도록 서롤 겨눈 채 날이 선 듯 그 목소리엔'),('Dynamite', 'BTS', '2020-08-24', 'David Stewart, Jessica Agombar', 'Cos ah ah I’m in the stars tonight'),('작은 것들을 위한 시', 'BTS', '2019-04-12', 'Halsey, RM', '모든 게 궁금해 How’s your day Oh tell me'),('하루하루', '빅뱅', '2008-08-08', 'G-DRAGON, Daishi Dance', '떠나가 Ye the finally I reallize That I`m nu`ttin without you'),('거짓말', '빅뱅', '2007-08-16', '용감한 형제, G-DRAGON', 'ye love is pain to all my brokenhearted people'),('얼굴 찌푸리지 말아요', 'Highlight', '2017-03-20', 'Good Life', '오늘따라 유난히 웃지 않는 네가 왠지 슬퍼 보여'),('사랑했나봐', 'Highlight', '2018-11-20', 'Good Life', '그리운 하늘에 떠오른 그대가 맘을 들춰내고 또 날 춥게 해'),('잘자요 굿나잇', 'B1A4', '2012-05-24', '진영', '그래요 오늘은 먼저 자요 그대 잠들면 나도 잘게요'), ('이게 무슨 일이야','B1A4', '2013-05-06', '진영', 'every day yeah yeah yeah yeah every day yeah yeah yeah yeah')\")\n",
    "conn.commit()"
   ]
  },
  {
   "cell_type": "markdown",
   "metadata": {},
   "source": [
    "### 테이블 합치기"
   ]
  },
  {
   "cell_type": "code",
   "execution_count": 11,
   "metadata": {},
   "outputs": [
    {
     "output_type": "stream",
     "name": "stdout",
     "text": [
      "('EXO', '7', '2012-04-08', 'Love Shot', '2018-12-13')\n('EXO', '7', '2012-04-08', '첫 눈', '2013-12-09')\n('BTS', '7', '2013-06-13', 'Dynamite', '2020-08-24')\n('BTS', '7', '2013-06-13', '작은 것들을 위한 시', '2019-04-12')\n('빅뱅', '4', '2006-08-19', '거짓말', '2007-08-16')\n('빅뱅', '4', '2006-08-19', '하루하루', '2008-08-08')\n('Highlight', '4', '2017-03-20', '사랑했나봐', '2018-11-20')\n('Highlight', '4', '2017-03-20', '얼굴 찌푸리지 말아요', '2017-03-20')\n('B1A4', '3', '2011-04-14', '이게 무슨 일이야', '2013-05-06')\n('B1A4', '3', '2011-04-14', '잘자요 굿나잇', '2012-05-24')\n"
     ]
    }
   ],
   "source": [
    "cur = conn.cursor()\n",
    "cur.execute(\"select l.group_name, l.구성원, l.데뷔일자, r.song_name, r.발표날짜 from Boy_Group AS l inner join Song AS r on l.group_name = r.group_id\")\n",
    "songs = cur.fetchall()\n",
    "for song in songs:\n",
    "    print(song)"
   ]
  },
  {
   "cell_type": "markdown",
   "metadata": {},
   "source": [
    "### 3번"
   ]
  },
  {
   "cell_type": "markdown",
   "metadata": {},
   "source": [
    "### 테이블 만들기 "
   ]
  },
  {
   "cell_type": "code",
   "execution_count": 12,
   "metadata": {},
   "outputs": [],
   "source": [
    "cur = conn.cursor()\n",
    "cur.execute(\"CREATE TABLE IF NOT EXISTS Users ('사용자' text ,'비밀번호' int);\")\n",
    "conn.commit()"
   ]
  },
  {
   "cell_type": "markdown",
   "metadata": {},
   "source": [
    "### 사용자 계정 만들기"
   ]
  },
  {
   "cell_type": "code",
   "execution_count": 13,
   "metadata": {},
   "outputs": [],
   "source": [
    "cur = conn.cursor()\n",
    "cur.execute(\"insert into Users(사용자,비밀번호) values('홍길동', 1234), ('동길홍', 1234)\")\n",
    "conn.commit()"
   ]
  },
  {
   "cell_type": "markdown",
   "metadata": {},
   "source": [
    "### 프로그램 만들기"
   ]
  },
  {
   "cell_type": "code",
   "execution_count": 14,
   "metadata": {},
   "outputs": [
    {
     "output_type": "stream",
     "name": "stdout",
     "text": [
      "('홍길동', 1234)\n",
      "('동길홍', 1234)\n",
      "성공!\n"
     ]
    }
   ],
   "source": [
    "cur = conn.cursor()\n",
    "cur.execute(\"select * from users\")\n",
    "users = cur.fetchall()\n",
    "for user in users:\n",
    "    print(user)\n",
    "uname = input('사용자 이름을 입력하세요>')\n",
    "pwd = int(input('사용자 비밀번호를 입력하세요>'))\n",
    "for i in users:\n",
    "    if uname in i :\n",
    "        if pwd == i[1]:\n",
    "            print('성공!')\n",
    "            break\n",
    "        else:\n",
    "            print('실패!')\n",
    "            break"
   ]
  },
  {
   "cell_type": "code",
   "execution_count": 15,
   "metadata": {},
   "outputs": [],
   "source": [
    "cur.close()\n",
    "conn.close()"
   ]
  }
 ],
 "metadata": {
  "kernelspec": {
   "display_name": "Python 3",
   "language": "python",
   "name": "python3"
  },
  "language_info": {
   "codemirror_mode": {
    "name": "ipython",
    "version": 3
   },
   "file_extension": ".py",
   "mimetype": "text/x-python",
   "name": "python",
   "nbconvert_exporter": "python",
   "pygments_lexer": "ipython3",
   "version": "3.8.3-final"
  }
 },
 "nbformat": 4,
 "nbformat_minor": 2
}