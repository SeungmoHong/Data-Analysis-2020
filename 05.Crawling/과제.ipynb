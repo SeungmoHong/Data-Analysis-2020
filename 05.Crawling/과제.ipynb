{
 "cells": [
  {
   "cell_type": "markdown",
   "metadata": {},
   "source": [
    "# 과제 한빛 네트워크 크롤링하기"
   ]
  },
  {
   "cell_type": "code",
   "execution_count": 132,
   "metadata": {},
   "outputs": [],
   "source": [
    "from bs4 import BeautifulSoup\n",
    "import urllib.request\n",
    "import pandas as pd\n",
    "import requests\n",
    "headers = {'User-Agent':'Mozilla/5.0 (Windows NT 6.3; Win64; x64) AppleWebKit/537.36 (KHTML, like Gecko) Chrome/63.0.3239.132 Safari/537.36'}\n",
    "url ='https://www.hanbit.co.kr/academy/books/new_book_list.html'\n",
    "html = requests.get(url, headers = headers).text\n",
    "soup = BeautifulSoup(html, 'html.parser')"
   ]
  },
  {
   "cell_type": "code",
   "execution_count": 133,
   "metadata": {},
   "outputs": [],
   "source": [
    "new_booklist = soup.select_one('.sub_book_list_area')"
   ]
  },
  {
   "cell_type": "code",
   "execution_count": 134,
   "metadata": {},
   "outputs": [
    {
     "output_type": "execute_result",
     "data": {
      "text/plain": [
       "'\\n\\n\\n\\n\\n\\n\\n\\n\\n\\n28,000원\\n\\n\\n\\n\\n\\n\\n\\nIT CookBook, 액세스 2019로 배우는 데이터베이스 기초와 실습\\n김지연 \\n\\n\\n'"
      ]
     },
     "metadata": {},
     "execution_count": 134
    }
   ],
   "source": [
    "book_areas = new_booklist.find_all('li')\n",
    "book_areas[1].get_text()"
   ]
  },
  {
   "cell_type": "code",
   "execution_count": 135,
   "metadata": {},
   "outputs": [
    {
     "output_type": "execute_result",
     "data": {
      "text/plain": [
       "'IT CookBook, 액세스 2019로 배우는 데이터베이스 기초와 실습'"
      ]
     },
     "metadata": {},
     "execution_count": 135
    }
   ],
   "source": [
    "book_areas[1].find('p', 'book_tit').get_text()"
   ]
  },
  {
   "cell_type": "code",
   "execution_count": 136,
   "metadata": {},
   "outputs": [
    {
     "output_type": "execute_result",
     "data": {
      "text/plain": [
       "'김지연 '"
      ]
     },
     "metadata": {},
     "execution_count": 136
    }
   ],
   "source": [
    "book_areas[1].find('p', 'book_writer').get_text()"
   ]
  },
  {
   "cell_type": "code",
   "execution_count": 137,
   "metadata": {},
   "outputs": [
    {
     "output_type": "execute_result",
     "data": {
      "text/plain": [
       "'28,000원'"
      ]
     },
     "metadata": {},
     "execution_count": 137
    }
   ],
   "source": [
    "book_areas[1].find('span', 'price').get_text()"
   ]
  },
  {
   "cell_type": "code",
   "execution_count": 138,
   "metadata": {},
   "outputs": [
    {
     "output_type": "execute_result",
     "data": {
      "text/plain": [
       "'28,000'"
      ]
     },
     "metadata": {},
     "execution_count": 138
    }
   ],
   "source": [
    "book_areas[1].find('span', 'price').get_text().strip('원')"
   ]
  },
  {
   "cell_type": "code",
   "execution_count": 139,
   "metadata": {},
   "outputs": [],
   "source": [
    "book_names =[];  book_writers= [];  book_prices=[]\n",
    "new_booklist = soup.select_one('.sub_book_list_area')\n",
    "book_areas = new_booklist.find_all('li')"
   ]
  },
  {
   "cell_type": "code",
   "execution_count": 140,
   "metadata": {},
   "outputs": [],
   "source": [
    "for book in book_areas[1:]:\n",
    "    book_names.append(book.find('p', 'book_tit').get_text())\n",
    "    book_writers.append(book.find('p', 'book_writer').get_text())\n",
    "    book_prices.append(book.find('span', 'price').get_text())"
   ]
  },
  {
   "cell_type": "code",
   "execution_count": 141,
   "metadata": {},
   "outputs": [
    {
     "output_type": "execute_result",
     "data": {
      "text/plain": [
       "['IT CookBook, 액세스 2019로 배우는 데이터베이스 기초와 실습',\n",
       " '포르잔 C++ 바이블',\n",
       " '딥러닝을 위한 선형대수학',\n",
       " 'IT CookBook, 오라클로 배우는 데이터베이스 개론과 실습(2판)',\n",
       " '대학을 버려야 대학이 산다',\n",
       " 'IT CookBook, 따라 하면서 배우는 사물인터넷',\n",
       " 'R로 하는 다변량 데이터 분석 : 이론부터 실무 활용까지',\n",
       " '창의적 공학설계(3판)',\n",
       " '공학 핵심수학(2판)  : 기초부터 심화까지 핵심만 쏙쏙',\n",
       " '응용이 보이는 선형대수학 : 파이썬과 함께하는 선형대수학 이론과 응용',\n",
       " 'IT CookBook, 초연결 사회의 데이터통신과 네트워킹',\n",
       " 'IT CookBook, 쉽게 배우는 MFC 윈도우 프로그래밍',\n",
       " 'IT CookBook, 인공지능 시대를 위한 컴퓨터 과학 개론',\n",
       " 'IT CookBook, 코틀린을 활용한 안드로이드 프로그래밍',\n",
       " 'IT CookBook, 처음 만나는 신재생에너지',\n",
       " '프리드버그 선형대수학',\n",
       " 'IT CookBook, CentOS 리눅스',\n",
       " 'Microeconomics, 6th Edition, Asia Edition',\n",
       " '누구나 파이썬 통계분석']"
      ]
     },
     "metadata": {},
     "execution_count": 141
    }
   ],
   "source": [
    "book_names"
   ]
  },
  {
   "cell_type": "code",
   "execution_count": 142,
   "metadata": {},
   "outputs": [],
   "source": [
    "first_books = pd.DataFrame({\n",
    "    'book_name' : book_names,\n",
    "    'book_writer': book_writers,\n",
    "    'book_price' : book_prices\n",
    "})"
   ]
  },
  {
   "cell_type": "markdown",
   "metadata": {},
   "source": [
    "### 답"
   ]
  },
  {
   "cell_type": "code",
   "execution_count": 143,
   "metadata": {},
   "outputs": [
    {
     "output_type": "execute_result",
     "data": {
      "text/plain": [
       "                                    book_name  \\\n",
       "0    IT CookBook, 액세스 2019로 배우는 데이터베이스 기초와 실습   \n",
       "1                                 포르잔 C++ 바이블   \n",
       "2                               딥러닝을 위한 선형대수학   \n",
       "3     IT CookBook, 오라클로 배우는 데이터베이스 개론과 실습(2판)   \n",
       "4                              대학을 버려야 대학이 산다   \n",
       "5               IT CookBook, 따라 하면서 배우는 사물인터넷   \n",
       "6             R로 하는 다변량 데이터 분석 : 이론부터 실무 활용까지   \n",
       "7                                창의적 공학설계(3판)   \n",
       "8             공학 핵심수학(2판)  : 기초부터 심화까지 핵심만 쏙쏙   \n",
       "9      응용이 보이는 선형대수학 : 파이썬과 함께하는 선형대수학 이론과 응용   \n",
       "10           IT CookBook, 초연결 사회의 데이터통신과 네트워킹   \n",
       "11          IT CookBook, 쉽게 배우는 MFC 윈도우 프로그래밍   \n",
       "12         IT CookBook, 인공지능 시대를 위한 컴퓨터 과학 개론   \n",
       "13          IT CookBook, 코틀린을 활용한 안드로이드 프로그래밍   \n",
       "14                 IT CookBook, 처음 만나는 신재생에너지   \n",
       "15                                프리드버그 선형대수학   \n",
       "16                    IT CookBook, CentOS 리눅스   \n",
       "17  Microeconomics, 6th Edition, Asia Edition   \n",
       "18                               누구나 파이썬 통계분석   \n",
       "\n",
       "                                  book_writer book_price  \n",
       "0                                        김지연     28,000원  \n",
       "1   Behrouz A. Forouzan , Richard F. Gilberg     45,000원  \n",
       "2                             Gilbert Strang     38,000원  \n",
       "3                            박우창 , 남송휘 , 이현룡     29,000원  \n",
       "4                        조동성 외 인천대학교 가족 178명     18,000원  \n",
       "5                                        양재삼     28,000원  \n",
       "6              카와하시 잇코 , 이와마 노리카즈 , 스즈키 마사유키     32,000원  \n",
       "7                                        김은경     23,000원  \n",
       "8                                        함남우     23,000원  \n",
       "9                                        이건명     31,000원  \n",
       "10                                       강문식     29,000원  \n",
       "11                                 김선우 , 신화선     30,000원  \n",
       "12                                       정기철     27,000원  \n",
       "13                                 우재남 , 유혜림     34,000원  \n",
       "14                                       김지홍     25,000원  \n",
       "15     스티븐 H. 프리드버그 , 아놀드 J. 인셀 , 로렌스 E. 스펜스     35,000원  \n",
       "16                                       이종원     32,000원  \n",
       "17         David Besanko , Ronald Braeutigam     49,000원  \n",
       "18                                  타니아이 히로키     26,000원  "
      ],
      "text/html": "<div>\n<style scoped>\n    .dataframe tbody tr th:only-of-type {\n        vertical-align: middle;\n    }\n\n    .dataframe tbody tr th {\n        vertical-align: top;\n    }\n\n    .dataframe thead th {\n        text-align: right;\n    }\n</style>\n<table border=\"1\" class=\"dataframe\">\n  <thead>\n    <tr style=\"text-align: right;\">\n      <th></th>\n      <th>book_name</th>\n      <th>book_writer</th>\n      <th>book_price</th>\n    </tr>\n  </thead>\n  <tbody>\n    <tr>\n      <th>0</th>\n      <td>IT CookBook, 액세스 2019로 배우는 데이터베이스 기초와 실습</td>\n      <td>김지연</td>\n      <td>28,000원</td>\n    </tr>\n    <tr>\n      <th>1</th>\n      <td>포르잔 C++ 바이블</td>\n      <td>Behrouz A. Forouzan , Richard F. Gilberg</td>\n      <td>45,000원</td>\n    </tr>\n    <tr>\n      <th>2</th>\n      <td>딥러닝을 위한 선형대수학</td>\n      <td>Gilbert Strang</td>\n      <td>38,000원</td>\n    </tr>\n    <tr>\n      <th>3</th>\n      <td>IT CookBook, 오라클로 배우는 데이터베이스 개론과 실습(2판)</td>\n      <td>박우창 , 남송휘 , 이현룡</td>\n      <td>29,000원</td>\n    </tr>\n    <tr>\n      <th>4</th>\n      <td>대학을 버려야 대학이 산다</td>\n      <td>조동성 외 인천대학교 가족 178명</td>\n      <td>18,000원</td>\n    </tr>\n    <tr>\n      <th>5</th>\n      <td>IT CookBook, 따라 하면서 배우는 사물인터넷</td>\n      <td>양재삼</td>\n      <td>28,000원</td>\n    </tr>\n    <tr>\n      <th>6</th>\n      <td>R로 하는 다변량 데이터 분석 : 이론부터 실무 활용까지</td>\n      <td>카와하시 잇코 , 이와마 노리카즈 , 스즈키 마사유키</td>\n      <td>32,000원</td>\n    </tr>\n    <tr>\n      <th>7</th>\n      <td>창의적 공학설계(3판)</td>\n      <td>김은경</td>\n      <td>23,000원</td>\n    </tr>\n    <tr>\n      <th>8</th>\n      <td>공학 핵심수학(2판)  : 기초부터 심화까지 핵심만 쏙쏙</td>\n      <td>함남우</td>\n      <td>23,000원</td>\n    </tr>\n    <tr>\n      <th>9</th>\n      <td>응용이 보이는 선형대수학 : 파이썬과 함께하는 선형대수학 이론과 응용</td>\n      <td>이건명</td>\n      <td>31,000원</td>\n    </tr>\n    <tr>\n      <th>10</th>\n      <td>IT CookBook, 초연결 사회의 데이터통신과 네트워킹</td>\n      <td>강문식</td>\n      <td>29,000원</td>\n    </tr>\n    <tr>\n      <th>11</th>\n      <td>IT CookBook, 쉽게 배우는 MFC 윈도우 프로그래밍</td>\n      <td>김선우 , 신화선</td>\n      <td>30,000원</td>\n    </tr>\n    <tr>\n      <th>12</th>\n      <td>IT CookBook, 인공지능 시대를 위한 컴퓨터 과학 개론</td>\n      <td>정기철</td>\n      <td>27,000원</td>\n    </tr>\n    <tr>\n      <th>13</th>\n      <td>IT CookBook, 코틀린을 활용한 안드로이드 프로그래밍</td>\n      <td>우재남 , 유혜림</td>\n      <td>34,000원</td>\n    </tr>\n    <tr>\n      <th>14</th>\n      <td>IT CookBook, 처음 만나는 신재생에너지</td>\n      <td>김지홍</td>\n      <td>25,000원</td>\n    </tr>\n    <tr>\n      <th>15</th>\n      <td>프리드버그 선형대수학</td>\n      <td>스티븐 H. 프리드버그 , 아놀드 J. 인셀 , 로렌스 E. 스펜스</td>\n      <td>35,000원</td>\n    </tr>\n    <tr>\n      <th>16</th>\n      <td>IT CookBook, CentOS 리눅스</td>\n      <td>이종원</td>\n      <td>32,000원</td>\n    </tr>\n    <tr>\n      <th>17</th>\n      <td>Microeconomics, 6th Edition, Asia Edition</td>\n      <td>David Besanko , Ronald Braeutigam</td>\n      <td>49,000원</td>\n    </tr>\n    <tr>\n      <th>18</th>\n      <td>누구나 파이썬 통계분석</td>\n      <td>타니아이 히로키</td>\n      <td>26,000원</td>\n    </tr>\n  </tbody>\n</table>\n</div>"
     },
     "metadata": {},
     "execution_count": 143
    }
   ],
   "source": [
    "first_books"
   ]
  },
  {
   "cell_type": "markdown",
   "metadata": {},
   "source": [
    "### 다음단계"
   ]
  },
  {
   "cell_type": "code",
   "execution_count": 144,
   "metadata": {},
   "outputs": [
    {
     "output_type": "execute_result",
     "data": {
      "text/plain": [
       "[<p class=\"book_tit\"><a href=\"/academy/books/book_view.html?p_code=B4797877052\">포르잔 C++ 에센셜</a></p>,\n",
       " <p class=\"book_tit\"><a href=\"/academy/books/book_view.html?p_code=B6503201303\">IT CookBook, 액세스 2019로 배우는 데이터베이스 기초와 실습</a></p>,\n",
       " <p class=\"book_tit\"><a href=\"/academy/books/book_view.html?p_code=B1851418066\">포르잔 C++ 바이블</a></p>,\n",
       " <p class=\"book_tit\"><a href=\"/academy/books/book_view.html?p_code=B9479195027\">딥러닝을 위한 선형대수학</a></p>,\n",
       " <p class=\"book_tit\"><a href=\"/academy/books/book_view.html?p_code=B2082711299\">IT CookBook, 오라클로 배우는 데이터베이스 개론과 실습(2판)</a></p>,\n",
       " <p class=\"book_tit\"><a href=\"/academy/books/book_view.html?p_code=B1825116777\">대학을 버려야 대학이 산다</a></p>,\n",
       " <p class=\"book_tit\"><a href=\"/academy/books/book_view.html?p_code=B5937482728\">IT CookBook, 따라 하면서 배우는 사물인터넷</a></p>,\n",
       " <p class=\"book_tit\"><a href=\"/academy/books/book_view.html?p_code=B8404138031\">R로 하는 다변량 데이터 분석 : 이론부터 실무 활용까지</a></p>,\n",
       " <p class=\"book_tit\"><a href=\"/academy/books/book_view.html?p_code=B8573612142\">창의적 공학설계(3판)</a></p>,\n",
       " <p class=\"book_tit\"><a href=\"/academy/books/book_view.html?p_code=B8658821149\">공학 핵심수학(2판)  : 기초부터 심화까지 핵심만 쏙쏙</a></p>,\n",
       " <p class=\"book_tit\"><a href=\"/academy/books/book_view.html?p_code=B7926921440\">응용이 보이는 선형대수학 : 파이썬과 함께하는 선형대수학 이론과 응용</a></p>,\n",
       " <p class=\"book_tit\"><a href=\"/academy/books/book_view.html?p_code=B4295361584\">IT CookBook, 초연결 사회의 데이터통신과 네트워킹</a></p>,\n",
       " <p class=\"book_tit\"><a href=\"/academy/books/book_view.html?p_code=B3126325886\">IT CookBook, 쉽게 배우는 MFC 윈도우 프로그래밍</a></p>,\n",
       " <p class=\"book_tit\"><a href=\"/academy/books/book_view.html?p_code=B3715221949\">IT CookBook, 인공지능 시대를 위한 컴퓨터 과학 개론</a></p>,\n",
       " <p class=\"book_tit\"><a href=\"/academy/books/book_view.html?p_code=B3055805288\">IT CookBook, 코틀린을 활용한 안드로이드 프로그래밍</a></p>,\n",
       " <p class=\"book_tit\"><a href=\"/academy/books/book_view.html?p_code=B4872546419\">IT CookBook, 처음 만나는 신재생에너지</a></p>,\n",
       " <p class=\"book_tit\"><a href=\"/academy/books/book_view.html?p_code=B1710834745\">프리드버그 선형대수학</a></p>,\n",
       " <p class=\"book_tit\"><a href=\"/academy/books/book_view.html?p_code=B8200129293\">IT CookBook, CentOS 리눅스</a></p>,\n",
       " <p class=\"book_tit\"><a href=\"/academy/books/book_view.html?p_code=B8983481859\">Microeconomics, 6th Edition, Asia Edition</a></p>,\n",
       " <p class=\"book_tit\"><a href=\"/academy/books/book_view.html?p_code=B2049588591\">누구나 파이썬 통계분석</a></p>]"
      ]
     },
     "metadata": {},
     "execution_count": 144
    }
   ],
   "source": [
    "newlist = soup.select('.book_tit')\n",
    "newlist"
   ]
  },
  {
   "cell_type": "code",
   "execution_count": 145,
   "metadata": {},
   "outputs": [
    {
     "output_type": "execute_result",
     "data": {
      "text/plain": [
       "'/academy/books/book_view.html?p_code=B6503201303'"
      ]
     },
     "metadata": {},
     "execution_count": 145
    }
   ],
   "source": [
    "newlist[1].find('a').attrs['href']"
   ]
  },
  {
   "cell_type": "code",
   "execution_count": 146,
   "metadata": {},
   "outputs": [],
   "source": [
    "aurl ='https://www.hanbit.co.kr/'\n",
    "burl = 'academy/books/book_view.html?p_code=B4797877052'\n",
    "html = requests.get(aurl+burl, headers = headers).text\n",
    "soup = BeautifulSoup(html, 'html.parser')"
   ]
  },
  {
   "cell_type": "code",
   "execution_count": 147,
   "metadata": {},
   "outputs": [
    {
     "output_type": "execute_result",
     "data": {
      "text/plain": [
       "'포르잔 C++ 에센셜'"
      ]
     },
     "metadata": {},
     "execution_count": 147
    }
   ],
   "source": [
    "a = soup.select_one('.store_product_info_box')\n",
    "a.find('h3').string"
   ]
  },
  {
   "cell_type": "code",
   "execution_count": 148,
   "metadata": {},
   "outputs": [
    {
     "output_type": "execute_result",
     "data": {
      "text/plain": [
       "' Behrouz A. Forouzan , Richard F. Gilberg '"
      ]
     },
     "metadata": {},
     "execution_count": 148
    }
   ],
   "source": [
    "a.find_all('li')[0].get_text().split(':')[-1]"
   ]
  },
  {
   "cell_type": "code",
   "execution_count": 149,
   "metadata": {},
   "outputs": [
    {
     "output_type": "execute_result",
     "data": {
      "text/plain": [
       "' 윤인성 '"
      ]
     },
     "metadata": {},
     "execution_count": 149
    }
   ],
   "source": [
    "a.find_all('li')[1].get_text().split(':')[-1]"
   ]
  },
  {
   "cell_type": "code",
   "execution_count": 150,
   "metadata": {},
   "outputs": [
    {
     "output_type": "execute_result",
     "data": {
      "text/plain": [
       "' 2020-11-10'"
      ]
     },
     "metadata": {},
     "execution_count": 150
    }
   ],
   "source": [
    "a.find_all('li')[2].get_text().split(':')[-1]"
   ]
  },
  {
   "cell_type": "code",
   "execution_count": 151,
   "metadata": {},
   "outputs": [
    {
     "output_type": "execute_result",
     "data": {
      "text/plain": [
       "'4506'"
      ]
     },
     "metadata": {},
     "execution_count": 151
    }
   ],
   "source": [
    "a.find_all('li')[5].get_text().split(':')[-1]"
   ]
  },
  {
   "cell_type": "code",
   "execution_count": 152,
   "metadata": {},
   "outputs": [
    {
     "output_type": "execute_result",
     "data": {
      "text/plain": [
       "' 윤인성 '"
      ]
     },
     "metadata": {},
     "execution_count": 152
    }
   ],
   "source": [
    "a.find_all('li')[1].get_text().split(':')[-1]"
   ]
  },
  {
   "cell_type": "code",
   "execution_count": 153,
   "metadata": {},
   "outputs": [
    {
     "output_type": "execute_result",
     "data": {
      "text/plain": [
       "'32,000'"
      ]
     },
     "metadata": {},
     "execution_count": 153
    }
   ],
   "source": [
    "b = soup.select_one('.store_payment_area')\n",
    "b.find('span', 'pbr').string.strip('원')"
   ]
  },
  {
   "cell_type": "code",
   "execution_count": 154,
   "metadata": {},
   "outputs": [
    {
     "output_type": "execute_result",
     "data": {
      "text/plain": [
       "'960'"
      ]
     },
     "metadata": {},
     "execution_count": 154
    }
   ],
   "source": [
    "b.find_all('span')[6].get_text().split('점')[0]"
   ]
  },
  {
   "cell_type": "code",
   "execution_count": 155,
   "metadata": {},
   "outputs": [],
   "source": [
    "book_names =[]; book_dates=[]; book_pages=[];book_writers= [];  ori_book_prices=[]; sale_book_prices=[]; mileages =[]; translators =[]; "
   ]
  },
  {
   "cell_type": "code",
   "execution_count": 156,
   "metadata": {},
   "outputs": [],
   "source": [
    "for book in newlist:\n",
    "    headers = {'User-Agent':'Mozilla/5.0 (Windows NT 6.3; Win64; x64) AppleWebKit/537.36 (KHTML, like Gecko) Chrome/63.0.3239.132 Safari/537.36'}\n",
    "    aurl ='https://www.hanbit.co.kr/'\n",
    "    burl = book.find('a').attrs['href']\n",
    "    html = requests.get(aurl+burl, headers = headers).text\n",
    "    soup = BeautifulSoup(html, 'html.parser')\n",
    "    a = soup.select_one('.store_product_info_box')\n",
    "    b = soup.select_one('.store_payment_area')\n",
    "    book_names.append(a.find('h3').string)\n",
    "    book_writers.append(a.find_all('li')[0].get_text().split(':')[-1])\n",
    "    ori_book_prices.append(b.find('span', 'pbr').string.strip('원'))\n",
    "    sale_book_prices.append(b.find_all('span')[3].get_text().split('원')[0].replace(',',''))\n",
    "    mileages.append(b.find_all('span')[6].get_text().split('점')[0].replace(',',''))\n",
    "    if a.find_all('li')[1].get_text().split(\":\")[0] == '번역 ' :\n",
    "        translators.append(a.find_all('li')[1].get_text().split(':')[-1])\n",
    "        book_dates.append(a.find_all('li')[2].get_text().split(':')[-1])\n",
    "        book_pages.append(a.find_all('li')[3].get_text().split(':')[-1].strip('쪽'))\n",
    "    else:\n",
    "        translators.append(' ')\n",
    "        book_dates.append(a.find_all('li')[1].get_text().split(':')[-1])\n",
    "        book_pages.append(a.find_all('li')[2].get_text().split(':')[-1].strip('쪽'))"
   ]
  },
  {
   "cell_type": "code",
   "execution_count": 157,
   "metadata": {},
   "outputs": [],
   "source": [
    "second_book = pd.DataFrame({\n",
    "    'book_name' : book_names,\n",
    "    'book_writer' : book_writers,\n",
    "    'translator' : translators,\n",
    "    'book_date' : book_dates,\n",
    "    'book_page' : book_pages,\n",
    "    'ori_book_price' : ori_book_prices,\n",
    "    'sale_book_price' : sale_book_prices,\n",
    "    'mileage' : mileages\n",
    "})"
   ]
  },
  {
   "cell_type": "markdown",
   "metadata": {},
   "source": [
    "### 답"
   ]
  },
  {
   "cell_type": "code",
   "execution_count": 158,
   "metadata": {},
   "outputs": [
    {
     "output_type": "execute_result",
     "data": {
      "text/plain": [
       "                                    book_name  \\\n",
       "0                                 포르잔 C++ 에센셜   \n",
       "1    IT CookBook, 액세스 2019로 배우는 데이터베이스 기초와 실습   \n",
       "2                                 포르잔 C++ 바이블   \n",
       "3                               딥러닝을 위한 선형대수학   \n",
       "4     IT CookBook, 오라클로 배우는 데이터베이스 개론과 실습(2판)   \n",
       "5                              대학을 버려야 대학이 산다   \n",
       "6               IT CookBook, 따라 하면서 배우는 사물인터넷   \n",
       "7             R로 하는 다변량 데이터 분석 : 이론부터 실무 활용까지   \n",
       "8                                창의적 공학설계(3판)   \n",
       "9             공학 핵심수학(2판)  : 기초부터 심화까지 핵심만 쏙쏙   \n",
       "10     응용이 보이는 선형대수학 : 파이썬과 함께하는 선형대수학 이론과 응용   \n",
       "11           IT CookBook, 초연결 사회의 데이터통신과 네트워킹   \n",
       "12          IT CookBook, 쉽게 배우는 MFC 윈도우 프로그래밍   \n",
       "13         IT CookBook, 인공지능 시대를 위한 컴퓨터 과학 개론   \n",
       "14          IT CookBook, 코틀린을 활용한 안드로이드 프로그래밍   \n",
       "15                 IT CookBook, 처음 만나는 신재생에너지   \n",
       "16                                프리드버그 선형대수학   \n",
       "17                    IT CookBook, CentOS 리눅스   \n",
       "18  Microeconomics, 6th Edition, Asia Edition   \n",
       "19                               누구나 파이썬 통계분석   \n",
       "\n",
       "                                   book_writer              translator  \\\n",
       "0    Behrouz A. Forouzan , Richard F. Gilberg                     윤인성    \n",
       "1                                         김지연                            \n",
       "2    Behrouz A. Forouzan , Richard F. Gilberg                     윤인성    \n",
       "3                              Gilbert Strang    부산대학교 산업수학센터(FFMIMC)    \n",
       "4                             박우창 , 남송휘 , 이현룡                            \n",
       "5                         조동성 외 인천대학교 가족 178명                            \n",
       "6                                         양재삼                            \n",
       "7               카와하시 잇코 , 이와마 노리카즈 , 스즈키 마사유키                     권기태    \n",
       "8                                         김은경                            \n",
       "9                                         함남우                            \n",
       "10                                        이건명                            \n",
       "11                                        강문식                            \n",
       "12                                  김선우 , 신화선                            \n",
       "13                                        정기철                            \n",
       "14                                  우재남 , 유혜림                            \n",
       "15                                        김지홍                            \n",
       "16      스티븐 H. 프리드버그 , 아놀드 J. 인셀 , 로렌스 E. 스펜스     한빛수학교재연구소 , 심형보(감수)    \n",
       "17                                        이종원                            \n",
       "18          David Besanko , Ronald Braeutigam                            \n",
       "19                                   타니아이 히로키                     권기태    \n",
       "\n",
       "      book_date book_page ori_book_price sale_book_price mileage  \n",
       "0    2020-11-10      756          32,000           32000     960  \n",
       "1    2020-09-28      536          28,000           28000     840  \n",
       "2    2020-08-31     1192          45,000           45000    1350  \n",
       "3    2020-08-05      560          38,000           38000    1140  \n",
       "4    2020-07-30      600          29,000           29000     870  \n",
       "5    2020-07-25      216          18,000           18000     540  \n",
       "6    2020-07-23      448          28,000           28000     840  \n",
       "7    2020-07-10      544          32,000           32000     960  \n",
       "8    2020-07-10      408          23,000           23000     690  \n",
       "9    2020-07-06      484          23,000           23000     690  \n",
       "10   2020-07-06      592          31,000           31000     930  \n",
       "11   2020-06-30      504          29,000           29000     870  \n",
       "12   2020-06-20      772          30,000           30000     900  \n",
       "13   2020-06-19      520          27,000           27000     810  \n",
       "14   2020-06-19      564          34,000           34000    1020  \n",
       "15   2020-06-10      388          25,000           25000     750  \n",
       "16   2020-06-05      616          35,000           35000    1050  \n",
       "17   2020-05-30      792          32,000           32000     960  \n",
       "18   2020-05-01      856          49,000           49000    1470  \n",
       "19   2020-04-06      384          26,000           26000     780  "
      ],
      "text/html": "<div>\n<style scoped>\n    .dataframe tbody tr th:only-of-type {\n        vertical-align: middle;\n    }\n\n    .dataframe tbody tr th {\n        vertical-align: top;\n    }\n\n    .dataframe thead th {\n        text-align: right;\n    }\n</style>\n<table border=\"1\" class=\"dataframe\">\n  <thead>\n    <tr style=\"text-align: right;\">\n      <th></th>\n      <th>book_name</th>\n      <th>book_writer</th>\n      <th>translator</th>\n      <th>book_date</th>\n      <th>book_page</th>\n      <th>ori_book_price</th>\n      <th>sale_book_price</th>\n      <th>mileage</th>\n    </tr>\n  </thead>\n  <tbody>\n    <tr>\n      <th>0</th>\n      <td>포르잔 C++ 에센셜</td>\n      <td>Behrouz A. Forouzan , Richard F. Gilberg</td>\n      <td>윤인성</td>\n      <td>2020-11-10</td>\n      <td>756</td>\n      <td>32,000</td>\n      <td>32000</td>\n      <td>960</td>\n    </tr>\n    <tr>\n      <th>1</th>\n      <td>IT CookBook, 액세스 2019로 배우는 데이터베이스 기초와 실습</td>\n      <td>김지연</td>\n      <td></td>\n      <td>2020-09-28</td>\n      <td>536</td>\n      <td>28,000</td>\n      <td>28000</td>\n      <td>840</td>\n    </tr>\n    <tr>\n      <th>2</th>\n      <td>포르잔 C++ 바이블</td>\n      <td>Behrouz A. Forouzan , Richard F. Gilberg</td>\n      <td>윤인성</td>\n      <td>2020-08-31</td>\n      <td>1192</td>\n      <td>45,000</td>\n      <td>45000</td>\n      <td>1350</td>\n    </tr>\n    <tr>\n      <th>3</th>\n      <td>딥러닝을 위한 선형대수학</td>\n      <td>Gilbert Strang</td>\n      <td>부산대학교 산업수학센터(FFMIMC)</td>\n      <td>2020-08-05</td>\n      <td>560</td>\n      <td>38,000</td>\n      <td>38000</td>\n      <td>1140</td>\n    </tr>\n    <tr>\n      <th>4</th>\n      <td>IT CookBook, 오라클로 배우는 데이터베이스 개론과 실습(2판)</td>\n      <td>박우창 , 남송휘 , 이현룡</td>\n      <td></td>\n      <td>2020-07-30</td>\n      <td>600</td>\n      <td>29,000</td>\n      <td>29000</td>\n      <td>870</td>\n    </tr>\n    <tr>\n      <th>5</th>\n      <td>대학을 버려야 대학이 산다</td>\n      <td>조동성 외 인천대학교 가족 178명</td>\n      <td></td>\n      <td>2020-07-25</td>\n      <td>216</td>\n      <td>18,000</td>\n      <td>18000</td>\n      <td>540</td>\n    </tr>\n    <tr>\n      <th>6</th>\n      <td>IT CookBook, 따라 하면서 배우는 사물인터넷</td>\n      <td>양재삼</td>\n      <td></td>\n      <td>2020-07-23</td>\n      <td>448</td>\n      <td>28,000</td>\n      <td>28000</td>\n      <td>840</td>\n    </tr>\n    <tr>\n      <th>7</th>\n      <td>R로 하는 다변량 데이터 분석 : 이론부터 실무 활용까지</td>\n      <td>카와하시 잇코 , 이와마 노리카즈 , 스즈키 마사유키</td>\n      <td>권기태</td>\n      <td>2020-07-10</td>\n      <td>544</td>\n      <td>32,000</td>\n      <td>32000</td>\n      <td>960</td>\n    </tr>\n    <tr>\n      <th>8</th>\n      <td>창의적 공학설계(3판)</td>\n      <td>김은경</td>\n      <td></td>\n      <td>2020-07-10</td>\n      <td>408</td>\n      <td>23,000</td>\n      <td>23000</td>\n      <td>690</td>\n    </tr>\n    <tr>\n      <th>9</th>\n      <td>공학 핵심수학(2판)  : 기초부터 심화까지 핵심만 쏙쏙</td>\n      <td>함남우</td>\n      <td></td>\n      <td>2020-07-06</td>\n      <td>484</td>\n      <td>23,000</td>\n      <td>23000</td>\n      <td>690</td>\n    </tr>\n    <tr>\n      <th>10</th>\n      <td>응용이 보이는 선형대수학 : 파이썬과 함께하는 선형대수학 이론과 응용</td>\n      <td>이건명</td>\n      <td></td>\n      <td>2020-07-06</td>\n      <td>592</td>\n      <td>31,000</td>\n      <td>31000</td>\n      <td>930</td>\n    </tr>\n    <tr>\n      <th>11</th>\n      <td>IT CookBook, 초연결 사회의 데이터통신과 네트워킹</td>\n      <td>강문식</td>\n      <td></td>\n      <td>2020-06-30</td>\n      <td>504</td>\n      <td>29,000</td>\n      <td>29000</td>\n      <td>870</td>\n    </tr>\n    <tr>\n      <th>12</th>\n      <td>IT CookBook, 쉽게 배우는 MFC 윈도우 프로그래밍</td>\n      <td>김선우 , 신화선</td>\n      <td></td>\n      <td>2020-06-20</td>\n      <td>772</td>\n      <td>30,000</td>\n      <td>30000</td>\n      <td>900</td>\n    </tr>\n    <tr>\n      <th>13</th>\n      <td>IT CookBook, 인공지능 시대를 위한 컴퓨터 과학 개론</td>\n      <td>정기철</td>\n      <td></td>\n      <td>2020-06-19</td>\n      <td>520</td>\n      <td>27,000</td>\n      <td>27000</td>\n      <td>810</td>\n    </tr>\n    <tr>\n      <th>14</th>\n      <td>IT CookBook, 코틀린을 활용한 안드로이드 프로그래밍</td>\n      <td>우재남 , 유혜림</td>\n      <td></td>\n      <td>2020-06-19</td>\n      <td>564</td>\n      <td>34,000</td>\n      <td>34000</td>\n      <td>1020</td>\n    </tr>\n    <tr>\n      <th>15</th>\n      <td>IT CookBook, 처음 만나는 신재생에너지</td>\n      <td>김지홍</td>\n      <td></td>\n      <td>2020-06-10</td>\n      <td>388</td>\n      <td>25,000</td>\n      <td>25000</td>\n      <td>750</td>\n    </tr>\n    <tr>\n      <th>16</th>\n      <td>프리드버그 선형대수학</td>\n      <td>스티븐 H. 프리드버그 , 아놀드 J. 인셀 , 로렌스 E. 스펜스</td>\n      <td>한빛수학교재연구소 , 심형보(감수)</td>\n      <td>2020-06-05</td>\n      <td>616</td>\n      <td>35,000</td>\n      <td>35000</td>\n      <td>1050</td>\n    </tr>\n    <tr>\n      <th>17</th>\n      <td>IT CookBook, CentOS 리눅스</td>\n      <td>이종원</td>\n      <td></td>\n      <td>2020-05-30</td>\n      <td>792</td>\n      <td>32,000</td>\n      <td>32000</td>\n      <td>960</td>\n    </tr>\n    <tr>\n      <th>18</th>\n      <td>Microeconomics, 6th Edition, Asia Edition</td>\n      <td>David Besanko , Ronald Braeutigam</td>\n      <td></td>\n      <td>2020-05-01</td>\n      <td>856</td>\n      <td>49,000</td>\n      <td>49000</td>\n      <td>1470</td>\n    </tr>\n    <tr>\n      <th>19</th>\n      <td>누구나 파이썬 통계분석</td>\n      <td>타니아이 히로키</td>\n      <td>권기태</td>\n      <td>2020-04-06</td>\n      <td>384</td>\n      <td>26,000</td>\n      <td>26000</td>\n      <td>780</td>\n    </tr>\n  </tbody>\n</table>\n</div>"
     },
     "metadata": {},
     "execution_count": 158
    }
   ],
   "source": [
    "second_book"
   ]
  },
  {
   "cell_type": "markdown",
   "metadata": {},
   "source": [
    "### 마지막 단계"
   ]
  },
  {
   "cell_type": "code",
   "execution_count": 159,
   "metadata": {},
   "outputs": [
    {
     "output_type": "execute_result",
     "data": {
      "text/plain": [
       "'/academy/books/new_book_list.html?page=11&cate_cd=&srt=&searchKey=&keyWord='"
      ]
     },
     "metadata": {},
     "execution_count": 159
    }
   ],
   "source": [
    "url ='https://www.hanbit.co.kr/academy/books/new_book_list.html'\n",
    "html = requests.get(url, headers = headers).text\n",
    "soup = BeautifulSoup(html, 'html.parser')\n",
    "hanbit_list = soup.select_one('.paginate')\n",
    "ex = hanbit_list.find('a', 'next')\n",
    "ex.attrs['href']"
   ]
  },
  {
   "cell_type": "code",
   "execution_count": 160,
   "metadata": {},
   "outputs": [
    {
     "output_type": "execute_result",
     "data": {
      "text/plain": [
       "<a href=\"/academy/books/new_book_list.html?page=10&amp;cate_cd=&amp;srt=&amp;searchKey=&amp;keyWord=\">10</a>"
      ]
     },
     "metadata": {},
     "execution_count": 160
    }
   ],
   "source": [
    "hanbit_list.find_all('a')[-2]"
   ]
  },
  {
   "cell_type": "code",
   "execution_count": 161,
   "metadata": {},
   "outputs": [
    {
     "output_type": "execute_result",
     "data": {
      "text/plain": [
       "16"
      ]
     },
     "metadata": {},
     "execution_count": 161
    }
   ],
   "source": [
    "# 페이지 수 찾기\n",
    "hanbit_list = soup.select_one('.paginate')\n",
    "if hanbit_list.find_all('a')[-1].attrs['class'] == ['next']:\n",
    "    headers = {'User-Agent':'Mozilla/5.0 (Windows NT 6.3; Win64; x64) AppleWebKit/537.36 (KHTML, like Gecko) Chrome/63.0.3239.132 Safari/537.36'}\n",
    "    aurl ='https://www.hanbit.co.kr/'\n",
    "    burl = hanbit_list.find_all('a')[-1].attrs['href']\n",
    "    html = requests.get(aurl+burl, headers = headers).text\n",
    "    soup = BeautifulSoup(html, 'html.parser')\n",
    "    hanbit_list = soup.select_one('.paginate')\n",
    "    burl = hanbit_list.find_all('a')[-1].attrs['href']\n",
    "    html = requests.get(aurl+burl, headers = headers).text\n",
    "    soup = BeautifulSoup(html, 'html.parser')\n",
    "    page = hanbit_list.find_all('a')[-1].get_text()\n",
    "page = int(page)\n",
    "page"
   ]
  },
  {
   "cell_type": "code",
   "execution_count": 162,
   "metadata": {},
   "outputs": [
    {
     "output_type": "execute_result",
     "data": {
      "text/plain": [
       "16"
      ]
     },
     "metadata": {},
     "execution_count": 162
    }
   ],
   "source": [
    "# 페이지 수 찾기 try, except 활용\n",
    "url ='https://www.hanbit.co.kr/academy/books/new_book_list.html'\n",
    "html = requests.get(url, headers = headers).text\n",
    "soup = BeautifulSoup(html, 'html.parser')\n",
    "hanbit_list = soup.select_one('.paginate')\n",
    "try:\n",
    "    while 'next' in hanbit_list.find_all('a')[-1].attrs['class']:\n",
    "        headers = {'User-Agent':'Mozilla/5.0 (Windows NT 6.3; Win64; x64) AppleWebKit/537.36 (KHTML, like Gecko) Chrome/63.0.3239.132 Safari/537.36'}\n",
    "        aurl ='https://www.hanbit.co.kr/'\n",
    "        burl = hanbit_list.find_all('a')[-1].attrs['href']\n",
    "        html = requests.get(aurl+burl, headers = headers).text\n",
    "        soup = BeautifulSoup(html, 'html.parser')\n",
    "        hanbit_list = soup.select_one('.paginate')\n",
    "except:\n",
    "    burl = hanbit_list.find_all('a')[-1].attrs['href']\n",
    "    html = requests.get(aurl+burl, headers = headers).text\n",
    "    soup = BeautifulSoup(html, 'html.parser')\n",
    "    page = hanbit_list.find_all('a')[-1].get_text()\n",
    "    page = int(page)\n",
    "page"
   ]
  },
  {
   "cell_type": "code",
   "execution_count": 163,
   "metadata": {},
   "outputs": [
    {
     "output_type": "execute_result",
     "data": {
      "text/plain": [
       "<a href=\"/academy/books/new_book_list.html?page=16&amp;cate_cd=&amp;srt=&amp;searchKey=&amp;keyWord=\">16</a>"
      ]
     },
     "metadata": {},
     "execution_count": 163
    }
   ],
   "source": [
    "hanbit_list.find_all('a')[-1]"
   ]
  },
  {
   "cell_type": "code",
   "execution_count": 169,
   "metadata": {},
   "outputs": [],
   "source": [
    "from tqdm import tqdm_notebook\n",
    "import time"
   ]
  },
  {
   "cell_type": "code",
   "execution_count": 170,
   "metadata": {},
   "outputs": [],
   "source": [
    "book_names =[]; book_dates=[]; book_pages=[];book_writers= [];  ori_book_prices=[]; sale_book_prices=[]; mileages =[]; translators =[]; "
   ]
  },
  {
   "cell_type": "code",
   "execution_count": 171,
   "metadata": {},
   "outputs": [
    {
     "output_type": "display_data",
     "data": {
      "text/plain": "HBox(children=(FloatProgress(value=0.0, max=16.0), HTML(value='')))",
      "application/vnd.jupyter.widget-view+json": {
       "version_major": 2,
       "version_minor": 0,
       "model_id": "9efbea5f9faa46efbc3a8f204afd1cfa"
      }
     },
     "metadata": {}
    },
    {
     "output_type": "stream",
     "name": "stdout",
     "text": [
      "\n"
     ]
    }
   ],
   "source": [
    "for last in tqdm_notebook(range(page)):\n",
    "    headers = {'User-Agent':'Mozilla/5.0 (Windows NT 6.3; Win64; x64) AppleWebKit/537.36 (KHTML, like Gecko) Chrome/63.0.3239.132 Safari/537.36'}\n",
    "    url =f'https://www.hanbit.co.kr/academy/books/new_book_list.html?page={last+1}&cate_cd=&srt=&searchKey=&keyWord='\n",
    "    html = requests.get(url, headers = headers).text\n",
    "    soup = BeautifulSoup(html, 'html.parser')\n",
    "    newlist = soup.select('.book_tit')\n",
    "    for book in newlist:\n",
    "        aurl ='https://www.hanbit.co.kr/'\n",
    "        burl = book.find('a').attrs['href']\n",
    "        html = requests.get(aurl+burl, headers = headers).text\n",
    "        soup = BeautifulSoup(html, 'html.parser')\n",
    "        a = soup.select_one('.store_product_info_box')\n",
    "        b = soup.select_one('.store_payment_area')\n",
    "        book_names.append(a.find('h3').string)\n",
    "        book_writers.append(a.find_all('li')[0].get_text().split(':')[-1])\n",
    "        ori_book_prices.append(b.find('span', 'pbr').string.strip('원').replace(',',''))\n",
    "        sale_book_prices.append(b.find_all('span')[3].get_text().split('원')[0].replace(',',''))\n",
    "        mileages.append(b.find_all('span')[6].get_text().split('점')[0].replace(',',''))\n",
    "        if a.find_all('li')[1].get_text().split(\":\")[0] == '번역 ' :\n",
    "            translators.append(a.find_all('li')[1].get_text().split(':')[-1])\n",
    "            book_dates.append(a.find_all('li')[2].get_text().split(':')[-1])\n",
    "            book_pages.append(a.find_all('li')[3].get_text().split(':')[-1].strip('쪽'))\n",
    "        else:\n",
    "            translators.append(' ')\n",
    "            book_dates.append(a.find_all('li')[1].get_text().split(':')[-1])\n",
    "            book_pages.append(a.find_all('li')[2].get_text().split(':')[-1].strip('쪽'))"
   ]
  },
  {
   "cell_type": "code",
   "execution_count": 172,
   "metadata": {},
   "outputs": [],
   "source": [
    "last_book = pd.DataFrame({\n",
    "    'book_name' : book_names,\n",
    "    'book_writer' : book_writers,\n",
    "    'translator' : translators,\n",
    "    'book_date' : book_dates,\n",
    "    'book_page' : book_pages,\n",
    "    'ori_book_price' : ori_book_prices,\n",
    "    'sale_book_price' : sale_book_prices,\n",
    "    'mileage' : mileages\n",
    "})"
   ]
  },
  {
   "cell_type": "markdown",
   "metadata": {},
   "source": [
    "### 답"
   ]
  },
  {
   "cell_type": "code",
   "execution_count": 173,
   "metadata": {},
   "outputs": [
    {
     "output_type": "execute_result",
     "data": {
      "text/plain": [
       "                                             book_name  \\\n",
       "0                                          포르잔 C++ 에센셜   \n",
       "1             IT CookBook, 액세스 2019로 배우는 데이터베이스 기초와 실습   \n",
       "2                                          포르잔 C++ 바이블   \n",
       "3                                        딥러닝을 위한 선형대수학   \n",
       "4              IT CookBook, 오라클로 배우는 데이터베이스 개론과 실습(2판)   \n",
       "..                                                 ...   \n",
       "296                      문제해결력을 키우는 이공계 글쓰기 : 발표와 토론까지   \n",
       "297                진로개발과 직업세계 : 대학생과 청년층을 위한 진로, 취업지침서   \n",
       "298                                 Essential Calculus   \n",
       "299  IT CookBook, 디지털 통신 시스템 : Digital Communicatio...   \n",
       "300     IT CookBook, 운영체제론 : Operating Systems, 3rd Ed   \n",
       "\n",
       "                                    book_writer              translator  \\\n",
       "0     Behrouz A. Forouzan , Richard F. Gilberg                     윤인성    \n",
       "1                                          김지연                            \n",
       "2     Behrouz A. Forouzan , Richard F. Gilberg                     윤인성    \n",
       "3                               Gilbert Strang    부산대학교 산업수학센터(FFMIMC)    \n",
       "4                              박우창 , 남송휘 , 이현룡                            \n",
       "..                                          ...                     ...   \n",
       "296                                        한성우                            \n",
       "297                      서일수 , 김도균 , 김지혜 , 이정배                            \n",
       "298                              James Stewart                            \n",
       "299                                  정호영 , 임승각                            \n",
       "300                     하비 디텔 , 폴 디텔 , 데이빗 쇼픈스                     송경희    \n",
       "\n",
       "       book_date book_page ori_book_price sale_book_price mileage  \n",
       "0     2020-11-10      756           32000           32000     960  \n",
       "1     2020-09-28      536           28000           28000     840  \n",
       "2     2020-08-31     1192           45000           45000    1350  \n",
       "3     2020-08-05      560           38000           38000    1140  \n",
       "4     2020-07-30      600           29000           29000     870  \n",
       "..           ...       ...            ...             ...     ...  \n",
       "296   2013-02-28      396           18000           18000     540  \n",
       "297   2013-02-28      392           20000           20000     600  \n",
       "298   2012-07-08      960           36000           36000    1080  \n",
       "299   2011-01-31      576           25000           25000     750  \n",
       "300   2009-09-04      860           32000           32000     960  \n",
       "\n",
       "[301 rows x 8 columns]"
      ],
      "text/html": "<div>\n<style scoped>\n    .dataframe tbody tr th:only-of-type {\n        vertical-align: middle;\n    }\n\n    .dataframe tbody tr th {\n        vertical-align: top;\n    }\n\n    .dataframe thead th {\n        text-align: right;\n    }\n</style>\n<table border=\"1\" class=\"dataframe\">\n  <thead>\n    <tr style=\"text-align: right;\">\n      <th></th>\n      <th>book_name</th>\n      <th>book_writer</th>\n      <th>translator</th>\n      <th>book_date</th>\n      <th>book_page</th>\n      <th>ori_book_price</th>\n      <th>sale_book_price</th>\n      <th>mileage</th>\n    </tr>\n  </thead>\n  <tbody>\n    <tr>\n      <th>0</th>\n      <td>포르잔 C++ 에센셜</td>\n      <td>Behrouz A. Forouzan , Richard F. Gilberg</td>\n      <td>윤인성</td>\n      <td>2020-11-10</td>\n      <td>756</td>\n      <td>32000</td>\n      <td>32000</td>\n      <td>960</td>\n    </tr>\n    <tr>\n      <th>1</th>\n      <td>IT CookBook, 액세스 2019로 배우는 데이터베이스 기초와 실습</td>\n      <td>김지연</td>\n      <td></td>\n      <td>2020-09-28</td>\n      <td>536</td>\n      <td>28000</td>\n      <td>28000</td>\n      <td>840</td>\n    </tr>\n    <tr>\n      <th>2</th>\n      <td>포르잔 C++ 바이블</td>\n      <td>Behrouz A. Forouzan , Richard F. Gilberg</td>\n      <td>윤인성</td>\n      <td>2020-08-31</td>\n      <td>1192</td>\n      <td>45000</td>\n      <td>45000</td>\n      <td>1350</td>\n    </tr>\n    <tr>\n      <th>3</th>\n      <td>딥러닝을 위한 선형대수학</td>\n      <td>Gilbert Strang</td>\n      <td>부산대학교 산업수학센터(FFMIMC)</td>\n      <td>2020-08-05</td>\n      <td>560</td>\n      <td>38000</td>\n      <td>38000</td>\n      <td>1140</td>\n    </tr>\n    <tr>\n      <th>4</th>\n      <td>IT CookBook, 오라클로 배우는 데이터베이스 개론과 실습(2판)</td>\n      <td>박우창 , 남송휘 , 이현룡</td>\n      <td></td>\n      <td>2020-07-30</td>\n      <td>600</td>\n      <td>29000</td>\n      <td>29000</td>\n      <td>870</td>\n    </tr>\n    <tr>\n      <th>...</th>\n      <td>...</td>\n      <td>...</td>\n      <td>...</td>\n      <td>...</td>\n      <td>...</td>\n      <td>...</td>\n      <td>...</td>\n      <td>...</td>\n    </tr>\n    <tr>\n      <th>296</th>\n      <td>문제해결력을 키우는 이공계 글쓰기 : 발표와 토론까지</td>\n      <td>한성우</td>\n      <td></td>\n      <td>2013-02-28</td>\n      <td>396</td>\n      <td>18000</td>\n      <td>18000</td>\n      <td>540</td>\n    </tr>\n    <tr>\n      <th>297</th>\n      <td>진로개발과 직업세계 : 대학생과 청년층을 위한 진로, 취업지침서</td>\n      <td>서일수 , 김도균 , 김지혜 , 이정배</td>\n      <td></td>\n      <td>2013-02-28</td>\n      <td>392</td>\n      <td>20000</td>\n      <td>20000</td>\n      <td>600</td>\n    </tr>\n    <tr>\n      <th>298</th>\n      <td>Essential Calculus</td>\n      <td>James Stewart</td>\n      <td></td>\n      <td>2012-07-08</td>\n      <td>960</td>\n      <td>36000</td>\n      <td>36000</td>\n      <td>1080</td>\n    </tr>\n    <tr>\n      <th>299</th>\n      <td>IT CookBook, 디지털 통신 시스템 : Digital Communicatio...</td>\n      <td>정호영 , 임승각</td>\n      <td></td>\n      <td>2011-01-31</td>\n      <td>576</td>\n      <td>25000</td>\n      <td>25000</td>\n      <td>750</td>\n    </tr>\n    <tr>\n      <th>300</th>\n      <td>IT CookBook, 운영체제론 : Operating Systems, 3rd Ed</td>\n      <td>하비 디텔 , 폴 디텔 , 데이빗 쇼픈스</td>\n      <td>송경희</td>\n      <td>2009-09-04</td>\n      <td>860</td>\n      <td>32000</td>\n      <td>32000</td>\n      <td>960</td>\n    </tr>\n  </tbody>\n</table>\n<p>301 rows × 8 columns</p>\n</div>"
     },
     "metadata": {},
     "execution_count": 173
    }
   ],
   "source": [
    "last_book"
   ]
  },
  {
   "cell_type": "code",
   "execution_count": 174,
   "metadata": {},
   "outputs": [],
   "source": [
    "last_book.to_csv('New_book_list.csv', sep = ',' , encoding='utf8')"
   ]
  },
  {
   "cell_type": "code",
   "execution_count": null,
   "metadata": {},
   "outputs": [],
   "source": []
  }
 ],
 "metadata": {
  "kernelspec": {
   "display_name": "Python 3",
   "language": "python",
   "name": "python3"
  },
  "language_info": {
   "codemirror_mode": {
    "name": "ipython",
    "version": 3
   },
   "file_extension": ".py",
   "mimetype": "text/x-python",
   "name": "python",
   "nbconvert_exporter": "python",
   "pygments_lexer": "ipython3",
   "version": "3.8.3-final"
  }
 },
 "nbformat": 4,
 "nbformat_minor": 4
}