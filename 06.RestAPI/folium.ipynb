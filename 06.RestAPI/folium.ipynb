{
 "metadata": {
  "language_info": {
   "codemirror_mode": {
    "name": "ipython",
    "version": 3
   },
   "file_extension": ".py",
   "mimetype": "text/x-python",
   "name": "python",
   "nbconvert_exporter": "python",
   "pygments_lexer": "ipython3",
   "version": "3.8.5-final"
  },
  "orig_nbformat": 2,
  "kernelspec": {
   "name": "python3",
   "display_name": "Python 3"
  }
 },
 "nbformat": 4,
 "nbformat_minor": 2,
 "cells": [
  {
   "source": [
    "# Folium 지도를 이용하여 표시하기"
   ],
   "cell_type": "markdown",
   "metadata": {}
  },
  {
   "cell_type": "code",
   "execution_count": 5,
   "metadata": {},
   "outputs": [],
   "source": [
    "# import\n",
    "import folium\n",
    "import pandas as pd"
   ]
  },
  {
   "cell_type": "code",
   "execution_count": 6,
   "metadata": {},
   "outputs": [
    {
     "output_type": "execute_result",
     "data": {
      "text/plain": [
       "'0.11.0'"
      ]
     },
     "metadata": {},
     "execution_count": 6
    }
   ],
   "source": [
    "folium.__version__"
   ]
  },
  {
   "cell_type": "code",
   "execution_count": 7,
   "metadata": {},
   "outputs": [
    {
     "output_type": "execute_result",
     "data": {
      "text/plain": [
       "<folium.folium.Map at 0xda09148>"
      ],
      "text/html": "<div style=\"width:100%;\"><div style=\"position:relative;width:100%;height:0;padding-bottom:60%;\"><span style=\"color:#565656\">Make this Notebook Trusted to load map: File -> Trust Notebook</span><iframe src=\"about:blank\" style=\"position:absolute;width:100%;height:100%;left:0;top:0;border:none !important;\" data-html=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 onload=\"this.contentDocument.open();this.contentDocument.write(atob(this.getAttribute('data-html')));this.contentDocument.close();\" allowfullscreen webkitallowfullscreen mozallowfullscreen></iframe></div></div>"
     },
     "metadata": {},
     "execution_count": 7
    }
   ],
   "source": [
    "mapping = folium.Map(location=[37.550966,126.849532],zoom_start=25)\n",
    "folium.Marker([37.550966,126.849532], \n",
    "                                    icon= folium.Icon(icon='cloud') ,popup='center').add_to(mapping)\n",
    "mapping"
   ]
  },
  {
   "cell_type": "code",
   "execution_count": 8,
   "metadata": {},
   "outputs": [
    {
     "output_type": "execute_result",
     "data": {
      "text/plain": [
       "<folium.folium.Map at 0xda15bc8>"
      ],
      "text/html": "<div style=\"width:100%;\"><div style=\"position:relative;width:100%;height:0;padding-bottom:60%;\"><span style=\"color:#565656\">Make this Notebook Trusted to load map: File -> Trust Notebook</span><iframe src=\"about:blank\" style=\"position:absolute;width:100%;height:100%;left:0;top:0;border:none !important;\" data-html=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 onload=\"this.contentDocument.open();this.contentDocument.write(atob(this.getAttribute('data-html')));this.contentDocument.close();\" allowfullscreen webkitallowfullscreen mozallowfullscreen></iframe></div></div>"
     },
     "metadata": {},
     "execution_count": 8
    }
   ],
   "source": [
    "mapping = folium.Map(location=[37.517075,126.866543],zoom_start=12)\n",
    "folium.Marker([37.517075,126.849532], \n",
    "                                    icon= folium.Icon(icon='cloud') ,popup='양천구청').add_to(mapping)\n",
    "folium.Marker([37.502277,126.765004], \n",
    "                                    icon= folium.Icon(color='red',icon='cloud') ,popup='부천시청').add_to(mapping)\n",
    "\n",
    "folium.Marker([37.550966,126.849532], \n",
    "                                    icon= folium.Icon(color='green',icon='cloud') ,popup='강서구청').add_to(mapping)\n",
    "mapping"
   ]
  },
  {
   "cell_type": "code",
   "execution_count": 9,
   "metadata": {},
   "outputs": [],
   "source": [
    "#  mapping = folium.Map(location=[37.5237104120888,126.854897142835],zoom_start=30)\n",
    "#  folium.Marker([37.5237104120888,126.854897142835], \n",
    "#                                       icon= folium.Icon(color='yellow', icon='warning-sign'),popup='ㅄ근집').add_to(mapping)\n",
    "#  mapping"
   ]
  },
  {
   "cell_type": "code",
   "execution_count": 10,
   "metadata": {},
   "outputs": [
    {
     "output_type": "execute_result",
     "data": {
      "text/plain": [
       "    bldg                   road_addr        lat         lng weather desc  \\\n",
       "0   강서구청     서울특별시 강서구 화곡로 302 (화곡동)  37.550966  126.849532  Clouds  튼구름   \n",
       "1   양천구청    서울특별시 양천구 목동동로 105 (신정동)  37.517075  126.866543  Clouds  튼구름   \n",
       "2   부천시청      경기도 부천시 길주로 210-2 (중동)  37.502277  126.765004  Clouds  튼구름   \n",
       "3  영등포구청  서울특별시 영등포구 당산로 123 (당산동3가)  37.525963  126.896367  Clouds  온흐림   \n",
       "4   김포시청        경기도 김포시 사우중로 1 (사우동)  37.615190  126.715717  Clouds  튼구름   \n",
       "\n",
       "      temp        icon  \n",
       "0  3.1/2/4  map-marker  \n",
       "1  3.9/3/5       cloud  \n",
       "2  3.0/2/4        gift  \n",
       "3  3.9/3/5   info-sign  \n",
       "4  3.0/2/4   ok-circle  "
      ],
      "text/html": "<div>\n<style scoped>\n    .dataframe tbody tr th:only-of-type {\n        vertical-align: middle;\n    }\n\n    .dataframe tbody tr th {\n        vertical-align: top;\n    }\n\n    .dataframe thead th {\n        text-align: right;\n    }\n</style>\n<table border=\"1\" class=\"dataframe\">\n  <thead>\n    <tr style=\"text-align: right;\">\n      <th></th>\n      <th>bldg</th>\n      <th>road_addr</th>\n      <th>lat</th>\n      <th>lng</th>\n      <th>weather</th>\n      <th>desc</th>\n      <th>temp</th>\n      <th>icon</th>\n    </tr>\n  </thead>\n  <tbody>\n    <tr>\n      <th>0</th>\n      <td>강서구청</td>\n      <td>서울특별시 강서구 화곡로 302 (화곡동)</td>\n      <td>37.550966</td>\n      <td>126.849532</td>\n      <td>Clouds</td>\n      <td>튼구름</td>\n      <td>3.1/2/4</td>\n      <td>map-marker</td>\n    </tr>\n    <tr>\n      <th>1</th>\n      <td>양천구청</td>\n      <td>서울특별시 양천구 목동동로 105 (신정동)</td>\n      <td>37.517075</td>\n      <td>126.866543</td>\n      <td>Clouds</td>\n      <td>튼구름</td>\n      <td>3.9/3/5</td>\n      <td>cloud</td>\n    </tr>\n    <tr>\n      <th>2</th>\n      <td>부천시청</td>\n      <td>경기도 부천시 길주로 210-2 (중동)</td>\n      <td>37.502277</td>\n      <td>126.765004</td>\n      <td>Clouds</td>\n      <td>튼구름</td>\n      <td>3.0/2/4</td>\n      <td>gift</td>\n    </tr>\n    <tr>\n      <th>3</th>\n      <td>영등포구청</td>\n      <td>서울특별시 영등포구 당산로 123 (당산동3가)</td>\n      <td>37.525963</td>\n      <td>126.896367</td>\n      <td>Clouds</td>\n      <td>온흐림</td>\n      <td>3.9/3/5</td>\n      <td>info-sign</td>\n    </tr>\n    <tr>\n      <th>4</th>\n      <td>김포시청</td>\n      <td>경기도 김포시 사우중로 1 (사우동)</td>\n      <td>37.615190</td>\n      <td>126.715717</td>\n      <td>Clouds</td>\n      <td>튼구름</td>\n      <td>3.0/2/4</td>\n      <td>ok-circle</td>\n    </tr>\n  </tbody>\n</table>\n</div>"
     },
     "metadata": {},
     "execution_count": 10
    }
   ],
   "source": [
    "df = pd.read_csv('address3.csv')\n",
    "df['icon'] = ['map-marker', 'cloud', 'gift', 'info-sign', 'ok-circle']\n",
    "color_dict = {'Clear': 'blue', 'Snow': 'white', 'Rain': 'gray', 'Extreme': 'red', 'Clouds': 'orange', 'Mist': 'green'}\n",
    "df"
   ]
  },
  {
   "cell_type": "code",
   "execution_count": 11,
   "metadata": {},
   "outputs": [
    {
     "output_type": "execute_result",
     "data": {
      "text/plain": [
       "<folium.folium.Map at 0xda1a4f0>"
      ],
      "text/html": "<div style=\"width:100%;\"><div style=\"position:relative;width:100%;height:0;padding-bottom:60%;\"><span style=\"color:#565656\">Make this Notebook Trusted to load map: File -> Trust Notebook</span><iframe src=\"about:blank\" style=\"position:absolute;width:100%;height:100%;left:0;top:0;border:none !important;\" data-html=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 onload=\"this.contentDocument.open();this.contentDocument.write(atob(this.getAttribute('data-html')));this.contentDocument.close();\" allowfullscreen webkitallowfullscreen mozallowfullscreen></iframe></div></div>"
     },
     "metadata": {},
     "execution_count": 11
    }
   ],
   "source": [
    "\n",
    "mapping = folium.Map(location=[df.lat.mean(), df.lng.mean()],\n",
    "                    zoom_start=12)\n",
    "for i in df.index:\n",
    "    folium.Marker(\n",
    "        location=[df.lat[i], df.lng[i]],\n",
    "        popup=df.bldg[i],\n",
    "        tooltip=f'{df.desc[i]}, {df.temp[i]}',\n",
    "        icon=folium.Icon(color=color_dict[df.weather[i]], icon=df.icon[i])\n",
    "    ).add_to(mapping)\n",
    "mapping"
   ]
  },
  {
   "cell_type": "code",
   "execution_count": null,
   "metadata": {},
   "outputs": [],
   "source": []
  }
 ]
}