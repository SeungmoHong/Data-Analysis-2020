{
 "metadata": {
  "language_info": {
   "codemirror_mode": {
    "name": "ipython",
    "version": 3
   },
   "file_extension": ".py",
   "mimetype": "text/x-python",
   "name": "python",
   "nbconvert_exporter": "python",
   "pygments_lexer": "ipython3",
   "version": "3.8.5-final"
  },
  "orig_nbformat": 2,
  "kernelspec": {
   "name": "Python 3.8.5 64-bit ('panda': conda)",
   "display_name": "Python 3.8.5 64-bit ('panda': conda)",
   "metadata": {
    "interpreter": {
     "hash": "2b00d2bb01d3c6fd407d9945b945bfae3eaf8048f291c299c05b2eab89ffcdb1"
    }
   }
  }
 },
 "nbformat": 4,
 "nbformat_minor": 2,
 "cells": [
  {
   "cell_type": "code",
   "execution_count": 1,
   "metadata": {},
   "outputs": [],
   "source": [
    "import numpy as np\n",
    "import pandas as pd"
   ]
  },
  {
   "cell_type": "code",
   "execution_count": 2,
   "metadata": {},
   "outputs": [
    {
     "output_type": "execute_result",
     "data": {
      "text/plain": [
       "   도시    연도       인구   지역\n",
       "0  서울  2015  9904312  수도권\n",
       "1  서울  2010  9631482  수도권\n",
       "2  서울  2005  9762546  수도권\n",
       "3  부산  2015  3448737  경상권\n",
       "4  부산  2010  3393191  경상권\n",
       "5  부산  2005  3512547  경상권\n",
       "6  인천  2015  2890451  수도권\n",
       "7  인천  2010   263203  수도권"
      ],
      "text/html": "<div>\n<style scoped>\n    .dataframe tbody tr th:only-of-type {\n        vertical-align: middle;\n    }\n\n    .dataframe tbody tr th {\n        vertical-align: top;\n    }\n\n    .dataframe thead th {\n        text-align: right;\n    }\n</style>\n<table border=\"1\" class=\"dataframe\">\n  <thead>\n    <tr style=\"text-align: right;\">\n      <th></th>\n      <th>도시</th>\n      <th>연도</th>\n      <th>인구</th>\n      <th>지역</th>\n    </tr>\n  </thead>\n  <tbody>\n    <tr>\n      <th>0</th>\n      <td>서울</td>\n      <td>2015</td>\n      <td>9904312</td>\n      <td>수도권</td>\n    </tr>\n    <tr>\n      <th>1</th>\n      <td>서울</td>\n      <td>2010</td>\n      <td>9631482</td>\n      <td>수도권</td>\n    </tr>\n    <tr>\n      <th>2</th>\n      <td>서울</td>\n      <td>2005</td>\n      <td>9762546</td>\n      <td>수도권</td>\n    </tr>\n    <tr>\n      <th>3</th>\n      <td>부산</td>\n      <td>2015</td>\n      <td>3448737</td>\n      <td>경상권</td>\n    </tr>\n    <tr>\n      <th>4</th>\n      <td>부산</td>\n      <td>2010</td>\n      <td>3393191</td>\n      <td>경상권</td>\n    </tr>\n    <tr>\n      <th>5</th>\n      <td>부산</td>\n      <td>2005</td>\n      <td>3512547</td>\n      <td>경상권</td>\n    </tr>\n    <tr>\n      <th>6</th>\n      <td>인천</td>\n      <td>2015</td>\n      <td>2890451</td>\n      <td>수도권</td>\n    </tr>\n    <tr>\n      <th>7</th>\n      <td>인천</td>\n      <td>2010</td>\n      <td>263203</td>\n      <td>수도권</td>\n    </tr>\n  </tbody>\n</table>\n</div>"
     },
     "metadata": {},
     "execution_count": 2
    }
   ],
   "source": [
    "data = {\n",
    "    \"도시\": [\"서울\", \"서울\", \"서울\", \"부산\", \"부산\", \"부산\", \"인천\", \"인천\"],\n",
    "    \"연도\": [\"2015\", \"2010\", \"2005\", \"2015\", \"2010\", \"2005\", \"2015\", \"2010\"],\n",
    "    \"인구\": [9904312, 9631482, 9762546, 3448737, 3393191, 3512547, 2890451, 263203],\n",
    "    \"지역\": [\"수도권\", \"수도권\", \"수도권\", \"경상권\", \"경상권\", \"경상권\", \"수도권\", \"수도권\"]\n",
    "}\n",
    "columns = [\"도시\", \"연도\", \"인구\", \"지역\"]\n",
    "df1 = pd.DataFrame(data, columns=columns)\n",
    "df1\n",
    "#행에 도시를\n",
    "#열에 연도를 놓고보면.. 한눈에 볼 수 있을텐데.."
   ]
  },
  {
   "cell_type": "code",
   "execution_count": 3,
   "metadata": {},
   "outputs": [
    {
     "output_type": "execute_result",
     "data": {
      "text/plain": [
       "연도       2005       2010       2015\n",
       "도시                                 \n",
       "부산  3512547.0  3393191.0  3448737.0\n",
       "서울  9762546.0  9631482.0  9904312.0\n",
       "인천        NaN   263203.0  2890451.0"
      ],
      "text/html": "<div>\n<style scoped>\n    .dataframe tbody tr th:only-of-type {\n        vertical-align: middle;\n    }\n\n    .dataframe tbody tr th {\n        vertical-align: top;\n    }\n\n    .dataframe thead th {\n        text-align: right;\n    }\n</style>\n<table border=\"1\" class=\"dataframe\">\n  <thead>\n    <tr style=\"text-align: right;\">\n      <th>연도</th>\n      <th>2005</th>\n      <th>2010</th>\n      <th>2015</th>\n    </tr>\n    <tr>\n      <th>도시</th>\n      <th></th>\n      <th></th>\n      <th></th>\n    </tr>\n  </thead>\n  <tbody>\n    <tr>\n      <th>부산</th>\n      <td>3512547.0</td>\n      <td>3393191.0</td>\n      <td>3448737.0</td>\n    </tr>\n    <tr>\n      <th>서울</th>\n      <td>9762546.0</td>\n      <td>9631482.0</td>\n      <td>9904312.0</td>\n    </tr>\n    <tr>\n      <th>인천</th>\n      <td>NaN</td>\n      <td>263203.0</td>\n      <td>2890451.0</td>\n    </tr>\n  </tbody>\n</table>\n</div>"
     },
     "metadata": {},
     "execution_count": 3
    }
   ],
   "source": [
    "df1.pivot(\"도시\", \"연도\", \"인구\") "
   ]
  },
  {
   "cell_type": "code",
   "execution_count": 4,
   "metadata": {},
   "outputs": [
    {
     "output_type": "execute_result",
     "data": {
      "text/plain": [
       "  key1 key2  data1  data2\n",
       "0    A  one      1     10\n",
       "1    A  two      2     20\n",
       "2    B  one      3     30\n",
       "3    B  two      4     40\n",
       "4    A  one      5     50"
      ],
      "text/html": "<div>\n<style scoped>\n    .dataframe tbody tr th:only-of-type {\n        vertical-align: middle;\n    }\n\n    .dataframe tbody tr th {\n        vertical-align: top;\n    }\n\n    .dataframe thead th {\n        text-align: right;\n    }\n</style>\n<table border=\"1\" class=\"dataframe\">\n  <thead>\n    <tr style=\"text-align: right;\">\n      <th></th>\n      <th>key1</th>\n      <th>key2</th>\n      <th>data1</th>\n      <th>data2</th>\n    </tr>\n  </thead>\n  <tbody>\n    <tr>\n      <th>0</th>\n      <td>A</td>\n      <td>one</td>\n      <td>1</td>\n      <td>10</td>\n    </tr>\n    <tr>\n      <th>1</th>\n      <td>A</td>\n      <td>two</td>\n      <td>2</td>\n      <td>20</td>\n    </tr>\n    <tr>\n      <th>2</th>\n      <td>B</td>\n      <td>one</td>\n      <td>3</td>\n      <td>30</td>\n    </tr>\n    <tr>\n      <th>3</th>\n      <td>B</td>\n      <td>two</td>\n      <td>4</td>\n      <td>40</td>\n    </tr>\n    <tr>\n      <th>4</th>\n      <td>A</td>\n      <td>one</td>\n      <td>5</td>\n      <td>50</td>\n    </tr>\n  </tbody>\n</table>\n</div>"
     },
     "metadata": {},
     "execution_count": 4
    }
   ],
   "source": [
    "\n",
    "np.random.seed(0)\n",
    "df2 = pd.DataFrame({\n",
    "    'key1': ['A', 'A', 'B', 'B', 'A'],\n",
    "    'key2': ['one', 'two', 'one', 'two', 'one'],\n",
    "    'data1': [1, 2, 3, 4, 5],\n",
    "    'data2': [10, 20, 30, 40, 50]\n",
    "})\n",
    "df2\n"
   ]
  },
  {
   "cell_type": "code",
   "execution_count": 5,
   "metadata": {},
   "outputs": [
    {
     "output_type": "execute_result",
     "data": {
      "text/plain": [
       "<pandas.core.groupby.generic.DataFrameGroupBy object at 0x00000281FC86AFA0>"
      ]
     },
     "metadata": {},
     "execution_count": 5
    }
   ],
   "source": [
    "groups = df2.groupby(df2.key1) #키1으로 A,b 그룹바이하겠다는뜻... \n",
    "groups  #이런객체이다 DataFrameGroupBy"
   ]
  },
  {
   "cell_type": "code",
   "execution_count": 6,
   "metadata": {},
   "outputs": [
    {
     "output_type": "execute_result",
     "data": {
      "text/plain": [
       "{'A': [0, 1, 4], 'B': [2, 3]}"
      ]
     },
     "metadata": {},
     "execution_count": 6
    }
   ],
   "source": [
    "groups.groups"
   ]
  },
  {
   "cell_type": "code",
   "execution_count": 7,
   "metadata": {},
   "outputs": [
    {
     "output_type": "execute_result",
     "data": {
      "text/plain": [
       "      data1  data2\n",
       "key1              \n",
       "A         8     80\n",
       "B         7     70"
      ],
      "text/html": "<div>\n<style scoped>\n    .dataframe tbody tr th:only-of-type {\n        vertical-align: middle;\n    }\n\n    .dataframe tbody tr th {\n        vertical-align: top;\n    }\n\n    .dataframe thead th {\n        text-align: right;\n    }\n</style>\n<table border=\"1\" class=\"dataframe\">\n  <thead>\n    <tr style=\"text-align: right;\">\n      <th></th>\n      <th>data1</th>\n      <th>data2</th>\n    </tr>\n    <tr>\n      <th>key1</th>\n      <th></th>\n      <th></th>\n    </tr>\n  </thead>\n  <tbody>\n    <tr>\n      <th>A</th>\n      <td>8</td>\n      <td>80</td>\n    </tr>\n    <tr>\n      <th>B</th>\n      <td>7</td>\n      <td>70</td>\n    </tr>\n  </tbody>\n</table>\n</div>"
     },
     "metadata": {},
     "execution_count": 7
    }
   ],
   "source": [
    "groups.sum()"
   ]
  },
  {
   "cell_type": "code",
   "execution_count": 8,
   "metadata": {},
   "outputs": [
    {
     "output_type": "execute_result",
     "data": {
      "text/plain": [
       "      data1  data2\n",
       "key1              \n",
       "A         8     80\n",
       "B         7     70"
      ],
      "text/html": "<div>\n<style scoped>\n    .dataframe tbody tr th:only-of-type {\n        vertical-align: middle;\n    }\n\n    .dataframe tbody tr th {\n        vertical-align: top;\n    }\n\n    .dataframe thead th {\n        text-align: right;\n    }\n</style>\n<table border=\"1\" class=\"dataframe\">\n  <thead>\n    <tr style=\"text-align: right;\">\n      <th></th>\n      <th>data1</th>\n      <th>data2</th>\n    </tr>\n    <tr>\n      <th>key1</th>\n      <th></th>\n      <th></th>\n    </tr>\n  </thead>\n  <tbody>\n    <tr>\n      <th>A</th>\n      <td>8</td>\n      <td>80</td>\n    </tr>\n    <tr>\n      <th>B</th>\n      <td>7</td>\n      <td>70</td>\n    </tr>\n  </tbody>\n</table>\n</div>"
     },
     "metadata": {},
     "execution_count": 8
    }
   ],
   "source": [
    "df2.groupby(df2.key1).sum()"
   ]
  },
  {
   "cell_type": "code",
   "execution_count": 11,
   "metadata": {},
   "outputs": [
    {
     "output_type": "execute_result",
     "data": {
      "text/plain": [
       "      data1  data2\n",
       "key1              \n",
       "A         8     80\n",
       "B         7     70"
      ],
      "text/html": "<div>\n<style scoped>\n    .dataframe tbody tr th:only-of-type {\n        vertical-align: middle;\n    }\n\n    .dataframe tbody tr th {\n        vertical-align: top;\n    }\n\n    .dataframe thead th {\n        text-align: right;\n    }\n</style>\n<table border=\"1\" class=\"dataframe\">\n  <thead>\n    <tr style=\"text-align: right;\">\n      <th></th>\n      <th>data1</th>\n      <th>data2</th>\n    </tr>\n    <tr>\n      <th>key1</th>\n      <th></th>\n      <th></th>\n    </tr>\n  </thead>\n  <tbody>\n    <tr>\n      <th>A</th>\n      <td>8</td>\n      <td>80</td>\n    </tr>\n    <tr>\n      <th>B</th>\n      <td>7</td>\n      <td>70</td>\n    </tr>\n  </tbody>\n</table>\n</div>"
     },
     "metadata": {},
     "execution_count": 11
    }
   ],
   "source": [
    "\n",
    "df2.groupby(df2['key1']).sum()"
   ]
  },
  {
   "cell_type": "code",
   "execution_count": 10,
   "metadata": {},
   "outputs": [
    {
     "output_type": "execute_result",
     "data": {
      "text/plain": [
       "key1\n",
       "A    8\n",
       "B    7\n",
       "Name: data1, dtype: int64"
      ]
     },
     "metadata": {},
     "execution_count": 10
    }
   ],
   "source": [
    "# 데이터1만 보고싶다?\n",
    "df2.groupby(df2.key1)['data1'].sum()   \n",
    "#데이터프레임을 그룹으로 바꾸고, 보고싶은건 data1이야"
   ]
  },
  {
   "cell_type": "code",
   "execution_count": 11,
   "metadata": {},
   "outputs": [
    {
     "output_type": "execute_result",
     "data": {
      "text/plain": [
       "      data1\n",
       "key1       \n",
       "A         8\n",
       "B         7"
      ],
      "text/html": "<div>\n<style scoped>\n    .dataframe tbody tr th:only-of-type {\n        vertical-align: middle;\n    }\n\n    .dataframe tbody tr th {\n        vertical-align: top;\n    }\n\n    .dataframe thead th {\n        text-align: right;\n    }\n</style>\n<table border=\"1\" class=\"dataframe\">\n  <thead>\n    <tr style=\"text-align: right;\">\n      <th></th>\n      <th>data1</th>\n    </tr>\n    <tr>\n      <th>key1</th>\n      <th></th>\n    </tr>\n  </thead>\n  <tbody>\n    <tr>\n      <th>A</th>\n      <td>8</td>\n    </tr>\n    <tr>\n      <th>B</th>\n      <td>7</td>\n    </tr>\n  </tbody>\n</table>\n</div>"
     },
     "metadata": {},
     "execution_count": 11
    }
   ],
   "source": [
    "#연습문제4.7.1  위와같은 내용인데 중첩하니까 시리즈가 아닌 데이터프레임으로 나왔다\n",
    "#튜플로 하고싶음.. [['data1']] 이부분이 (data1, )\n",
    "df2.groupby(df2.key1)[['data1']].sum()"
   ]
  },
  {
   "cell_type": "code",
   "execution_count": 12,
   "metadata": {},
   "outputs": [
    {
     "output_type": "execute_result",
     "data": {
      "text/plain": [
       "      data1\n",
       "key1       \n",
       "A         8\n",
       "B         7"
      ],
      "text/html": "<div>\n<style scoped>\n    .dataframe tbody tr th:only-of-type {\n        vertical-align: middle;\n    }\n\n    .dataframe tbody tr th {\n        vertical-align: top;\n    }\n\n    .dataframe thead th {\n        text-align: right;\n    }\n</style>\n<table border=\"1\" class=\"dataframe\">\n  <thead>\n    <tr style=\"text-align: right;\">\n      <th></th>\n      <th>data1</th>\n    </tr>\n    <tr>\n      <th>key1</th>\n      <th></th>\n    </tr>\n  </thead>\n  <tbody>\n    <tr>\n      <th>A</th>\n      <td>8</td>\n    </tr>\n    <tr>\n      <th>B</th>\n      <td>7</td>\n    </tr>\n  </tbody>\n</table>\n</div>"
     },
     "metadata": {},
     "execution_count": 12
    }
   ],
   "source": [
    "df2.groupby(df2.key1)[('data1',)].sum()"
   ]
  },
  {
   "cell_type": "code",
   "execution_count": 13,
   "metadata": {},
   "outputs": [
    {
     "output_type": "execute_result",
     "data": {
      "text/plain": [
       "      data1  data2\n",
       "key1              \n",
       "A         8     80\n",
       "B         7     70"
      ],
      "text/html": "<div>\n<style scoped>\n    .dataframe tbody tr th:only-of-type {\n        vertical-align: middle;\n    }\n\n    .dataframe tbody tr th {\n        vertical-align: top;\n    }\n\n    .dataframe thead th {\n        text-align: right;\n    }\n</style>\n<table border=\"1\" class=\"dataframe\">\n  <thead>\n    <tr style=\"text-align: right;\">\n      <th></th>\n      <th>data1</th>\n      <th>data2</th>\n    </tr>\n    <tr>\n      <th>key1</th>\n      <th></th>\n      <th></th>\n    </tr>\n  </thead>\n  <tbody>\n    <tr>\n      <th>A</th>\n      <td>8</td>\n      <td>80</td>\n    </tr>\n    <tr>\n      <th>B</th>\n      <td>7</td>\n      <td>70</td>\n    </tr>\n  </tbody>\n</table>\n</div>"
     },
     "metadata": {},
     "execution_count": 13
    }
   ],
   "source": [
    "df2.groupby(df2.key1)[('data1','data2')].sum()  \n",
    "# 데이터프레임 10개중 \n",
    "# 2개만 꺼내고싶으면 튜플로 리스트로 [('data1','data2')"
   ]
  },
  {
   "cell_type": "code",
   "execution_count": 14,
   "metadata": {},
   "outputs": [
    {
     "output_type": "execute_result",
     "data": {
      "text/plain": [
       "         data1      data2\n",
       "key1                     \n",
       "A     2.666667  26.666667\n",
       "B     3.500000  35.000000"
      ],
      "text/html": "<div>\n<style scoped>\n    .dataframe tbody tr th:only-of-type {\n        vertical-align: middle;\n    }\n\n    .dataframe tbody tr th {\n        vertical-align: top;\n    }\n\n    .dataframe thead th {\n        text-align: right;\n    }\n</style>\n<table border=\"1\" class=\"dataframe\">\n  <thead>\n    <tr style=\"text-align: right;\">\n      <th></th>\n      <th>data1</th>\n      <th>data2</th>\n    </tr>\n    <tr>\n      <th>key1</th>\n      <th></th>\n      <th></th>\n    </tr>\n  </thead>\n  <tbody>\n    <tr>\n      <th>A</th>\n      <td>2.666667</td>\n      <td>26.666667</td>\n    </tr>\n    <tr>\n      <th>B</th>\n      <td>3.500000</td>\n      <td>35.000000</td>\n    </tr>\n  </tbody>\n</table>\n</div>"
     },
     "metadata": {},
     "execution_count": 14
    }
   ],
   "source": [
    "df2.groupby(df2.key1).mean()"
   ]
  },
  {
   "cell_type": "code",
   "execution_count": 15,
   "metadata": {},
   "outputs": [
    {
     "output_type": "execute_result",
     "data": {
      "text/plain": [
       "key1  key2\n",
       "A     one     6\n",
       "      two     2\n",
       "B     one     3\n",
       "      two     4\n",
       "Name: data1, dtype: int64"
      ]
     },
     "metadata": {},
     "execution_count": 15
    }
   ],
   "source": [
    "df2.data1.groupby([df2.key1, df2.key2]).sum() \n",
    "#같은결과1)df2.data1을 그룹바이를 먼저 했다."
   ]
  },
  {
   "cell_type": "code",
   "execution_count": 16,
   "metadata": {},
   "outputs": [
    {
     "output_type": "execute_result",
     "data": {
      "text/plain": [
       "key1  key2\n",
       "A     one     6\n",
       "      two     2\n",
       "B     one     3\n",
       "      two     4\n",
       "Name: data1, dtype: int64"
      ]
     },
     "metadata": {},
     "execution_count": 16
    }
   ],
   "source": [
    "df2.groupby([df2.key1, df2.key2])['data1'].sum() \n",
    "#같은결과2) 데이터프레임응ㄹ 전체적으로 그룹하고"
   ]
  },
  {
   "cell_type": "code",
   "execution_count": 18,
   "metadata": {},
   "outputs": [
    {
     "output_type": "execute_result",
     "data": {
      "text/plain": [
       "연도       2005       2010       2015\n",
       "도시                                 \n",
       "부산  3512547.0  3393191.0  3448737.0\n",
       "서울  9762546.0  9631482.0  9904312.0\n",
       "인천        NaN   263203.0  2890451.0"
      ],
      "text/html": "<div>\n<style scoped>\n    .dataframe tbody tr th:only-of-type {\n        vertical-align: middle;\n    }\n\n    .dataframe tbody tr th {\n        vertical-align: top;\n    }\n\n    .dataframe thead th {\n        text-align: right;\n    }\n</style>\n<table border=\"1\" class=\"dataframe\">\n  <thead>\n    <tr style=\"text-align: right;\">\n      <th>연도</th>\n      <th>2005</th>\n      <th>2010</th>\n      <th>2015</th>\n    </tr>\n    <tr>\n      <th>도시</th>\n      <th></th>\n      <th></th>\n      <th></th>\n    </tr>\n  </thead>\n  <tbody>\n    <tr>\n      <th>부산</th>\n      <td>3512547.0</td>\n      <td>3393191.0</td>\n      <td>3448737.0</td>\n    </tr>\n    <tr>\n      <th>서울</th>\n      <td>9762546.0</td>\n      <td>9631482.0</td>\n      <td>9904312.0</td>\n    </tr>\n    <tr>\n      <th>인천</th>\n      <td>NaN</td>\n      <td>263203.0</td>\n      <td>2890451.0</td>\n    </tr>\n  </tbody>\n</table>\n</div>"
     },
     "metadata": {},
     "execution_count": 18
    }
   ],
   "source": [
    "df1.pivot_table(\"인구\", \"도시\", \"연도\")"
   ]
  },
  {
   "cell_type": "code",
   "execution_count": 19,
   "metadata": {},
   "outputs": [
    {
     "output_type": "execute_result",
     "data": {
      "text/plain": [
       "연도       2005       2010       2015            합계\n",
       "도시                                               \n",
       "부산  3512547.0  3393191.0  3448737.0  3.451492e+06\n",
       "서울  9762546.0  9631482.0  9904312.0  9.766113e+06\n",
       "인천        NaN   263203.0  2890451.0  1.576827e+06\n",
       "합계  6637546.5  4429292.0  5414500.0  5.350809e+06"
      ],
      "text/html": "<div>\n<style scoped>\n    .dataframe tbody tr th:only-of-type {\n        vertical-align: middle;\n    }\n\n    .dataframe tbody tr th {\n        vertical-align: top;\n    }\n\n    .dataframe thead th {\n        text-align: right;\n    }\n</style>\n<table border=\"1\" class=\"dataframe\">\n  <thead>\n    <tr style=\"text-align: right;\">\n      <th>연도</th>\n      <th>2005</th>\n      <th>2010</th>\n      <th>2015</th>\n      <th>합계</th>\n    </tr>\n    <tr>\n      <th>도시</th>\n      <th></th>\n      <th></th>\n      <th></th>\n      <th></th>\n    </tr>\n  </thead>\n  <tbody>\n    <tr>\n      <th>부산</th>\n      <td>3512547.0</td>\n      <td>3393191.0</td>\n      <td>3448737.0</td>\n      <td>3.451492e+06</td>\n    </tr>\n    <tr>\n      <th>서울</th>\n      <td>9762546.0</td>\n      <td>9631482.0</td>\n      <td>9904312.0</td>\n      <td>9.766113e+06</td>\n    </tr>\n    <tr>\n      <th>인천</th>\n      <td>NaN</td>\n      <td>263203.0</td>\n      <td>2890451.0</td>\n      <td>1.576827e+06</td>\n    </tr>\n    <tr>\n      <th>합계</th>\n      <td>6637546.5</td>\n      <td>4429292.0</td>\n      <td>5414500.0</td>\n      <td>5.350809e+06</td>\n    </tr>\n  </tbody>\n</table>\n</div>"
     },
     "metadata": {},
     "execution_count": 19
    }
   ],
   "source": [
    "df1.pivot_table(\"인구\", \"도시\", \"연도\", margins=True, margins_name=\"합계\")"
   ]
  },
  {
   "cell_type": "code",
   "execution_count": 20,
   "metadata": {},
   "outputs": [
    {
     "output_type": "execute_result",
     "data": {
      "text/plain": [
       "5350808.625"
      ]
     },
     "metadata": {},
     "execution_count": 20
    }
   ],
   "source": [
    "df1[\"인구\"].mean()"
   ]
  },
  {
   "cell_type": "code",
   "execution_count": 16,
   "metadata": {},
   "outputs": [
    {
     "output_type": "execute_result",
     "data": {
      "text/plain": [
       "              인구\n",
       "연도   도시         \n",
       "2005 부산  3512547\n",
       "     서울  9762546\n",
       "2010 부산  3393191\n",
       "     서울  9631482\n",
       "     인천   263203\n",
       "2015 부산  3448737\n",
       "     서울  9904312\n",
       "     인천  2890451"
      ],
      "text/html": "<div>\n<style scoped>\n    .dataframe tbody tr th:only-of-type {\n        vertical-align: middle;\n    }\n\n    .dataframe tbody tr th {\n        vertical-align: top;\n    }\n\n    .dataframe thead th {\n        text-align: right;\n    }\n</style>\n<table border=\"1\" class=\"dataframe\">\n  <thead>\n    <tr style=\"text-align: right;\">\n      <th></th>\n      <th></th>\n      <th>인구</th>\n    </tr>\n    <tr>\n      <th>연도</th>\n      <th>도시</th>\n      <th></th>\n    </tr>\n  </thead>\n  <tbody>\n    <tr>\n      <th rowspan=\"2\" valign=\"top\">2005</th>\n      <th>부산</th>\n      <td>3512547</td>\n    </tr>\n    <tr>\n      <th>서울</th>\n      <td>9762546</td>\n    </tr>\n    <tr>\n      <th rowspan=\"3\" valign=\"top\">2010</th>\n      <th>부산</th>\n      <td>3393191</td>\n    </tr>\n    <tr>\n      <th>서울</th>\n      <td>9631482</td>\n    </tr>\n    <tr>\n      <th>인천</th>\n      <td>263203</td>\n    </tr>\n    <tr>\n      <th rowspan=\"3\" valign=\"top\">2015</th>\n      <th>부산</th>\n      <td>3448737</td>\n    </tr>\n    <tr>\n      <th>서울</th>\n      <td>9904312</td>\n    </tr>\n    <tr>\n      <th>인천</th>\n      <td>2890451</td>\n    </tr>\n  </tbody>\n</table>\n</div>"
     },
     "metadata": {},
     "execution_count": 16
    }
   ],
   "source": [
    "df1.pivot_table(\"인구\", index=[\"연도\", \"도시\"])"
   ]
  },
  {
   "cell_type": "code",
   "execution_count": null,
   "metadata": {},
   "outputs": [],
   "source": []
  }
 ]
}